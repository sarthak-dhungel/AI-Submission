{
  "nbformat": 4,
  "nbformat_minor": 0,
  "metadata": {
    "colab": {
      "provenance": []
    },
    "kernelspec": {
      "name": "python3",
      "display_name": "Python 3"
    },
    "language_info": {
      "name": "python"
    }
  },
  "cells": [
    {
      "cell_type": "markdown",
      "source": [
        "**3.To - Do - Task**"
      ],
      "metadata": {
        "id": "A8Q02ngEa303"
      }
    },
    {
      "cell_type": "markdown",
      "source": [
        "Problem 1 - Sorting:\n",
        "1. Create a DataFrame called fare that contains only the Fare column of the Titanic dataset. Print the\n",
        "head of the result.\n",
        "2. Create a DataFrame called class age that contains only the Pclass and Age columns of the Titanic\n",
        "dataset, in that order. Print the head of the result.\n",
        "3. Create a DataFrame called survived gender that contains the Survived and Sex columns of the\n",
        "Titanic dataset, in that order.Print the head of the result."
      ],
      "metadata": {
        "id": "eu_bGxVCa7d4"
      }
    },
    {
      "cell_type": "code",
      "source": [
        "from google.colab import drive\n",
        "drive.mount('/content/drive')"
      ],
      "metadata": {
        "colab": {
          "base_uri": "https://localhost:8080/"
        },
        "id": "TabUng9HbCf5",
        "outputId": "8f2386c2-bd9d-434a-f87e-65a3764fb138"
      },
      "execution_count": 1,
      "outputs": [
        {
          "output_type": "stream",
          "name": "stdout",
          "text": [
            "Mounted at /content/drive\n"
          ]
        }
      ]
    },
    {
      "cell_type": "code",
      "source": [
        "import pandas as pd\n",
        "dataset = pd.read_csv(\"/content/drive/MyDrive/Concepts and Technology of AI/Titanic-Dataset.csv\");\n",
        "dataset.info()"
      ],
      "metadata": {
        "colab": {
          "base_uri": "https://localhost:8080/"
        },
        "id": "1SKTsTtbbYSY",
        "outputId": "416b7aa5-8dc0-4b6d-ff7d-de21a2f23197"
      },
      "execution_count": 2,
      "outputs": [
        {
          "output_type": "stream",
          "name": "stdout",
          "text": [
            "<class 'pandas.core.frame.DataFrame'>\n",
            "RangeIndex: 891 entries, 0 to 890\n",
            "Data columns (total 12 columns):\n",
            " #   Column       Non-Null Count  Dtype  \n",
            "---  ------       --------------  -----  \n",
            " 0   PassengerId  891 non-null    int64  \n",
            " 1   Survived     891 non-null    int64  \n",
            " 2   Pclass       891 non-null    int64  \n",
            " 3   Name         891 non-null    object \n",
            " 4   Sex          891 non-null    object \n",
            " 5   Age          714 non-null    float64\n",
            " 6   SibSp        891 non-null    int64  \n",
            " 7   Parch        891 non-null    int64  \n",
            " 8   Ticket       891 non-null    object \n",
            " 9   Fare         891 non-null    float64\n",
            " 10  Cabin        204 non-null    object \n",
            " 11  Embarked     889 non-null    object \n",
            "dtypes: float64(2), int64(5), object(5)\n",
            "memory usage: 83.7+ KB\n"
          ]
        }
      ]
    },
    {
      "cell_type": "code",
      "source": [
        "# Create a DataFrame called fare with titanic dataset\n",
        "\n",
        "fare = pd.DataFrame(dataset['Fare'])\n",
        "print(fare.head())"
      ],
      "metadata": {
        "colab": {
          "base_uri": "https://localhost:8080/"
        },
        "id": "BT7i1yfqbjIZ",
        "outputId": "076c07de-468d-4aef-a8d1-6dc0b1810cb1"
      },
      "execution_count": 3,
      "outputs": [
        {
          "output_type": "stream",
          "name": "stdout",
          "text": [
            "      Fare\n",
            "0   7.2500\n",
            "1  71.2833\n",
            "2   7.9250\n",
            "3  53.1000\n",
            "4   8.0500\n"
          ]
        }
      ]
    },
    {
      "cell_type": "code",
      "source": [
        "# Create a DataFrame called class age that contains only the Pclass and Age columns of the Titanic dataset\n",
        "\n",
        "class_age = pd.DataFrame(dataset[['Pclass', 'Age']])\n",
        "print(class_age.head())"
      ],
      "metadata": {
        "colab": {
          "base_uri": "https://localhost:8080/"
        },
        "id": "u1f8NPbVbnkt",
        "outputId": "1a7abd00-6f7f-4443-9d4c-1af73cc950ab"
      },
      "execution_count": 4,
      "outputs": [
        {
          "output_type": "stream",
          "name": "stdout",
          "text": [
            "   Pclass   Age\n",
            "0       3  22.0\n",
            "1       1  38.0\n",
            "2       3  26.0\n",
            "3       1  35.0\n",
            "4       3  35.0\n"
          ]
        }
      ]
    },
    {
      "cell_type": "code",
      "source": [
        "# Create a DataFrame called survived gender that contains the Survived and Sex columns of the Titanic dataset\n",
        "survived_gender = pd.DataFrame(dataset[['Survived', 'Sex']])\n",
        "print(survived_gender.head())"
      ],
      "metadata": {
        "colab": {
          "base_uri": "https://localhost:8080/"
        },
        "id": "sD20F0n0br7x",
        "outputId": "a4f39d50-0ab9-45d9-f392-edc66b984548"
      },
      "execution_count": 5,
      "outputs": [
        {
          "output_type": "stream",
          "name": "stdout",
          "text": [
            "   Survived     Sex\n",
            "0         0    male\n",
            "1         1  female\n",
            "2         1  female\n",
            "3         1  female\n",
            "4         0    male\n"
          ]
        }
      ]
    },
    {
      "cell_type": "markdown",
      "source": [
        "Problem - 2 - Subsetting:\n",
        "Complete all the following Task:\n",
        "Subsetting Rows:\n",
        "1. Filter the Titanic dataset for cases where the passenger’s fare is greater than 100, assigning it\n",
        "to fare gt 100.View the printed result.\n",
        "2. Filter the Titanic dataset for cases where the passenger’s class (Pclass) is 1, assigning it to\n",
        "first class.View the printed result.\n",
        "3. Filter the Titanic dataset for cases where the passenger’s age is less than 18 and the passenger\n",
        "is female (Sex is \"female\"), assigning it to female under 18. View the printed result.\n",
        "\n",
        "Subsetting Rows by Categorical variables:\n",
        "1. Filter the Titanic dataset for passengers whose Embarked port is either \"C\" (Cherbourg) or \"S\"\n",
        "(Southampton), assigning the result to embarked c or s. View the printed result.\n",
        "2. Filter the Titanic dataset for passengers whose Pclass is in the list [1, 2] (indicating first\n",
        "or second class), assigning the result to first second class.View the printed result."
      ],
      "metadata": {
        "id": "OLfHKpZyby3m"
      }
    },
    {
      "cell_type": "code",
      "source": [
        "# subsetting Rows\n",
        "\n",
        "# Filter the Titanic dataset for cases where the passenger’s fare is greater than 100, assigning it to fare gt 100\n",
        "\n",
        "fare_gt_100 = dataset[dataset['Fare'] > 100]\n",
        "print(\"Filtering the dataset for fare greater than 100:\\n\",fare_gt_100)"
      ],
      "metadata": {
        "colab": {
          "base_uri": "https://localhost:8080/"
        },
        "id": "YPIjvGRPb0Jz",
        "outputId": "ca0869b2-c85d-4d7c-9f4b-b9e6476612b3"
      },
      "execution_count": 6,
      "outputs": [
        {
          "output_type": "stream",
          "name": "stdout",
          "text": [
            "Filtering the dataset for fare greater than 100:\n",
            "      PassengerId  Survived  Pclass  \\\n",
            "27            28         0       1   \n",
            "31            32         1       1   \n",
            "88            89         1       1   \n",
            "118          119         0       1   \n",
            "195          196         1       1   \n",
            "215          216         1       1   \n",
            "258          259         1       1   \n",
            "268          269         1       1   \n",
            "269          270         1       1   \n",
            "297          298         0       1   \n",
            "299          300         1       1   \n",
            "305          306         1       1   \n",
            "306          307         1       1   \n",
            "307          308         1       1   \n",
            "311          312         1       1   \n",
            "318          319         1       1   \n",
            "319          320         1       1   \n",
            "325          326         1       1   \n",
            "332          333         0       1   \n",
            "334          335         1       1   \n",
            "337          338         1       1   \n",
            "341          342         1       1   \n",
            "373          374         0       1   \n",
            "377          378         0       1   \n",
            "380          381         1       1   \n",
            "390          391         1       1   \n",
            "393          394         1       1   \n",
            "435          436         1       1   \n",
            "438          439         0       1   \n",
            "498          499         0       1   \n",
            "505          506         0       1   \n",
            "527          528         0       1   \n",
            "537          538         1       1   \n",
            "544          545         0       1   \n",
            "550          551         1       1   \n",
            "557          558         0       1   \n",
            "581          582         1       1   \n",
            "609          610         1       1   \n",
            "659          660         0       1   \n",
            "660          661         1       1   \n",
            "679          680         1       1   \n",
            "689          690         1       1   \n",
            "698          699         0       1   \n",
            "700          701         1       1   \n",
            "708          709         1       1   \n",
            "716          717         1       1   \n",
            "730          731         1       1   \n",
            "737          738         1       1   \n",
            "742          743         1       1   \n",
            "763          764         1       1   \n",
            "779          780         1       1   \n",
            "802          803         1       1   \n",
            "856          857         1       1   \n",
            "\n",
            "                                                  Name     Sex    Age  SibSp  \\\n",
            "27                      Fortune, Mr. Charles Alexander    male  19.00      3   \n",
            "31      Spencer, Mrs. William Augustus (Marie Eugenie)  female    NaN      1   \n",
            "88                          Fortune, Miss. Mabel Helen  female  23.00      3   \n",
            "118                           Baxter, Mr. Quigg Edmond    male  24.00      0   \n",
            "195                               Lurette, Miss. Elise  female  58.00      0   \n",
            "215                            Newell, Miss. Madeleine  female  31.00      1   \n",
            "258                                   Ward, Miss. Anna  female  35.00      0   \n",
            "268      Graham, Mrs. William Thompson (Edith Junkins)  female  58.00      0   \n",
            "269                             Bissette, Miss. Amelia  female  35.00      0   \n",
            "297                       Allison, Miss. Helen Loraine  female   2.00      1   \n",
            "299    Baxter, Mrs. James (Helene DeLaudeniere Chaput)  female  50.00      0   \n",
            "305                     Allison, Master. Hudson Trevor    male   0.92      1   \n",
            "306                            Fleming, Miss. Margaret  female    NaN      0   \n",
            "307  Penasco y Castellana, Mrs. Victor de Satode (M...  female  17.00      1   \n",
            "311                         Ryerson, Miss. Emily Borie  female  18.00      2   \n",
            "318                           Wick, Miss. Mary Natalie  female  31.00      0   \n",
            "319  Spedden, Mrs. Frederic Oakley (Margaretta Corn...  female  40.00      1   \n",
            "325                           Young, Miss. Marie Grice  female  36.00      0   \n",
            "332                          Graham, Mr. George Edward    male  38.00      0   \n",
            "334  Frauenthal, Mrs. Henry William (Clara Heinshei...  female    NaN      1   \n",
            "337                    Burns, Miss. Elizabeth Margaret  female  41.00      0   \n",
            "341                     Fortune, Miss. Alice Elizabeth  female  24.00      3   \n",
            "373                                Ringhini, Mr. Sante    male  22.00      0   \n",
            "377                          Widener, Mr. Harry Elkins    male  27.00      0   \n",
            "380                              Bidois, Miss. Rosalie  female  42.00      0   \n",
            "390                         Carter, Mr. William Ernest    male  36.00      1   \n",
            "393                             Newell, Miss. Marjorie  female  23.00      1   \n",
            "435                          Carter, Miss. Lucile Polk  female  14.00      1   \n",
            "438                                  Fortune, Mr. Mark    male  64.00      1   \n",
            "498    Allison, Mrs. Hudson J C (Bessie Waldo Daniels)  female  25.00      1   \n",
            "505         Penasco y Castellana, Mr. Victor de Satode    male  18.00      1   \n",
            "527                                 Farthing, Mr. John    male    NaN      0   \n",
            "537                                LeRoy, Miss. Bertha  female  30.00      0   \n",
            "544                         Douglas, Mr. Walter Donald    male  50.00      1   \n",
            "550                        Thayer, Mr. John Borland Jr    male  17.00      0   \n",
            "557                                Robbins, Mr. Victor    male    NaN      0   \n",
            "581  Thayer, Mrs. John Borland (Marian Longstreth M...  female  39.00      1   \n",
            "609                          Shutes, Miss. Elizabeth W  female  40.00      0   \n",
            "659                         Newell, Mr. Arthur Webster    male  58.00      0   \n",
            "660                      Frauenthal, Dr. Henry William    male  50.00      2   \n",
            "679                 Cardeza, Mr. Thomas Drake Martinez    male  36.00      0   \n",
            "689                  Madill, Miss. Georgette Alexandra  female  15.00      0   \n",
            "698                           Thayer, Mr. John Borland    male  49.00      1   \n",
            "700  Astor, Mrs. John Jacob (Madeleine Talmadge Force)  female  18.00      1   \n",
            "708                               Cleaver, Miss. Alice  female  22.00      0   \n",
            "716                      Endres, Miss. Caroline Louise  female  38.00      0   \n",
            "730                      Allen, Miss. Elisabeth Walton  female  29.00      0   \n",
            "737                             Lesurer, Mr. Gustave J    male  35.00      0   \n",
            "742              Ryerson, Miss. Susan Parker \"Suzette\"  female  21.00      2   \n",
            "763          Carter, Mrs. William Ernest (Lucile Polk)  female  36.00      1   \n",
            "779  Robert, Mrs. Edward Scott (Elisabeth Walton Mc...  female  43.00      0   \n",
            "802                Carter, Master. William Thornton II    male  11.00      1   \n",
            "856         Wick, Mrs. George Dennick (Mary Hitchcock)  female  45.00      1   \n",
            "\n",
            "     Parch    Ticket      Fare            Cabin Embarked  \n",
            "27       2     19950  263.0000      C23 C25 C27        S  \n",
            "31       0  PC 17569  146.5208              B78        C  \n",
            "88       2     19950  263.0000      C23 C25 C27        S  \n",
            "118      1  PC 17558  247.5208          B58 B60        C  \n",
            "195      0  PC 17569  146.5208              B80        C  \n",
            "215      0     35273  113.2750              D36        C  \n",
            "258      0  PC 17755  512.3292              NaN        C  \n",
            "268      1  PC 17582  153.4625             C125        S  \n",
            "269      0  PC 17760  135.6333              C99        S  \n",
            "297      2    113781  151.5500          C22 C26        S  \n",
            "299      1  PC 17558  247.5208          B58 B60        C  \n",
            "305      2    113781  151.5500          C22 C26        S  \n",
            "306      0     17421  110.8833              NaN        C  \n",
            "307      0  PC 17758  108.9000              C65        C  \n",
            "311      2  PC 17608  262.3750  B57 B59 B63 B66        C  \n",
            "318      2     36928  164.8667               C7        S  \n",
            "319      1     16966  134.5000              E34        C  \n",
            "325      0  PC 17760  135.6333              C32        C  \n",
            "332      1  PC 17582  153.4625              C91        S  \n",
            "334      0  PC 17611  133.6500              NaN        S  \n",
            "337      0     16966  134.5000              E40        C  \n",
            "341      2     19950  263.0000      C23 C25 C27        S  \n",
            "373      0  PC 17760  135.6333              NaN        C  \n",
            "377      2    113503  211.5000              C82        C  \n",
            "380      0  PC 17757  227.5250              NaN        C  \n",
            "390      2    113760  120.0000          B96 B98        S  \n",
            "393      0     35273  113.2750              D36        C  \n",
            "435      2    113760  120.0000          B96 B98        S  \n",
            "438      4     19950  263.0000      C23 C25 C27        S  \n",
            "498      2    113781  151.5500          C22 C26        S  \n",
            "505      0  PC 17758  108.9000              C65        C  \n",
            "527      0  PC 17483  221.7792              C95        S  \n",
            "537      0  PC 17761  106.4250              NaN        C  \n",
            "544      0  PC 17761  106.4250              C86        C  \n",
            "550      2     17421  110.8833              C70        C  \n",
            "557      0  PC 17757  227.5250              NaN        C  \n",
            "581      1     17421  110.8833              C68        C  \n",
            "609      0  PC 17582  153.4625             C125        S  \n",
            "659      2     35273  113.2750              D48        C  \n",
            "660      0  PC 17611  133.6500              NaN        S  \n",
            "679      1  PC 17755  512.3292      B51 B53 B55        C  \n",
            "689      1     24160  211.3375               B5        S  \n",
            "698      1     17421  110.8833              C68        C  \n",
            "700      0  PC 17757  227.5250          C62 C64        C  \n",
            "708      0    113781  151.5500              NaN        S  \n",
            "716      0  PC 17757  227.5250              C45        C  \n",
            "730      0     24160  211.3375               B5        S  \n",
            "737      0  PC 17755  512.3292             B101        C  \n",
            "742      2  PC 17608  262.3750  B57 B59 B63 B66        C  \n",
            "763      2    113760  120.0000          B96 B98        S  \n",
            "779      1     24160  211.3375               B3        S  \n",
            "802      2    113760  120.0000          B96 B98        S  \n",
            "856      1     36928  164.8667              NaN        S  \n"
          ]
        }
      ]
    },
    {
      "cell_type": "code",
      "source": [
        "# Filter the Titanic dataset for cases where the passenger’s class (Pclass) is 1, assigning it to first_class\n",
        "\n",
        "first_class = dataset[dataset['Pclass'] == 1]\n",
        "print(\"Filtering the dataset for passenger's class is 1:\\n\", first_class)\n"
      ],
      "metadata": {
        "colab": {
          "base_uri": "https://localhost:8080/"
        },
        "id": "K_qKQm9VcBAC",
        "outputId": "7a0b98e5-85a2-4bf0-b261-dc8682075d65"
      },
      "execution_count": 7,
      "outputs": [
        {
          "output_type": "stream",
          "name": "stdout",
          "text": [
            "Filtering the dataset for passenger's class is 1:\n",
            "      PassengerId  Survived  Pclass  \\\n",
            "1              2         1       1   \n",
            "3              4         1       1   \n",
            "6              7         0       1   \n",
            "11            12         1       1   \n",
            "23            24         1       1   \n",
            "..           ...       ...     ...   \n",
            "871          872         1       1   \n",
            "872          873         0       1   \n",
            "879          880         1       1   \n",
            "887          888         1       1   \n",
            "889          890         1       1   \n",
            "\n",
            "                                                  Name     Sex   Age  SibSp  \\\n",
            "1    Cumings, Mrs. John Bradley (Florence Briggs Th...  female  38.0      1   \n",
            "3         Futrelle, Mrs. Jacques Heath (Lily May Peel)  female  35.0      1   \n",
            "6                              McCarthy, Mr. Timothy J    male  54.0      0   \n",
            "11                            Bonnell, Miss. Elizabeth  female  58.0      0   \n",
            "23                        Sloper, Mr. William Thompson    male  28.0      0   \n",
            "..                                                 ...     ...   ...    ...   \n",
            "871   Beckwith, Mrs. Richard Leonard (Sallie Monypeny)  female  47.0      1   \n",
            "872                           Carlsson, Mr. Frans Olof    male  33.0      0   \n",
            "879      Potter, Mrs. Thomas Jr (Lily Alexenia Wilson)  female  56.0      0   \n",
            "887                       Graham, Miss. Margaret Edith  female  19.0      0   \n",
            "889                              Behr, Mr. Karl Howell    male  26.0      0   \n",
            "\n",
            "     Parch    Ticket     Fare        Cabin Embarked  \n",
            "1        0  PC 17599  71.2833          C85        C  \n",
            "3        0    113803  53.1000         C123        S  \n",
            "6        0     17463  51.8625          E46        S  \n",
            "11       0    113783  26.5500         C103        S  \n",
            "23       0    113788  35.5000           A6        S  \n",
            "..     ...       ...      ...          ...      ...  \n",
            "871      1     11751  52.5542          D35        S  \n",
            "872      0       695   5.0000  B51 B53 B55        S  \n",
            "879      1     11767  83.1583          C50        C  \n",
            "887      0    112053  30.0000          B42        S  \n",
            "889      0    111369  30.0000         C148        C  \n",
            "\n",
            "[216 rows x 12 columns]\n"
          ]
        }
      ]
    },
    {
      "cell_type": "code",
      "source": [
        "# the passenger’s age is less than 18 and the passenger is female (Sex is \"female\"), assigning it to female under 18.\n",
        "\n",
        "female_under_18 = dataset[(dataset['Age'] < 18) & (dataset['Sex'] == 'female')]\n",
        "print(\"Filtering the dataset where passenger's age is less than 18 and gender is female:\\n\", female_under_18)"
      ],
      "metadata": {
        "colab": {
          "base_uri": "https://localhost:8080/"
        },
        "id": "znI0FLoeeh4r",
        "outputId": "ab84a1a2-b224-4106-d12b-5d271fb3b7b6"
      },
      "execution_count": 8,
      "outputs": [
        {
          "output_type": "stream",
          "name": "stdout",
          "text": [
            "Filtering the dataset where passenger's age is less than 18 and gender is female:\n",
            "      PassengerId  Survived  Pclass  \\\n",
            "9             10         1       2   \n",
            "10            11         1       3   \n",
            "14            15         0       3   \n",
            "22            23         1       3   \n",
            "24            25         0       3   \n",
            "39            40         1       3   \n",
            "43            44         1       2   \n",
            "58            59         1       2   \n",
            "68            69         1       3   \n",
            "71            72         0       3   \n",
            "84            85         1       2   \n",
            "111          112         0       3   \n",
            "114          115         0       3   \n",
            "119          120         0       3   \n",
            "147          148         0       3   \n",
            "156          157         1       3   \n",
            "172          173         1       3   \n",
            "184          185         1       3   \n",
            "205          206         0       3   \n",
            "208          209         1       3   \n",
            "233          234         1       3   \n",
            "237          238         1       2   \n",
            "297          298         0       1   \n",
            "307          308         1       1   \n",
            "329          330         1       1   \n",
            "374          375         0       3   \n",
            "381          382         1       3   \n",
            "389          390         1       2   \n",
            "419          420         0       3   \n",
            "435          436         1       1   \n",
            "446          447         1       2   \n",
            "448          449         1       3   \n",
            "469          470         1       3   \n",
            "479          480         1       3   \n",
            "504          505         1       1   \n",
            "530          531         1       2   \n",
            "535          536         1       2   \n",
            "541          542         0       3   \n",
            "542          543         0       3   \n",
            "618          619         1       2   \n",
            "634          635         0       3   \n",
            "642          643         0       3   \n",
            "644          645         1       3   \n",
            "689          690         1       1   \n",
            "691          692         1       3   \n",
            "720          721         1       2   \n",
            "750          751         1       2   \n",
            "777          778         1       3   \n",
            "780          781         1       3   \n",
            "781          782         1       1   \n",
            "813          814         0       3   \n",
            "830          831         1       3   \n",
            "852          853         0       3   \n",
            "853          854         1       1   \n",
            "875          876         1       3   \n",
            "\n",
            "                                                  Name     Sex    Age  SibSp  \\\n",
            "9                  Nasser, Mrs. Nicholas (Adele Achem)  female  14.00      1   \n",
            "10                     Sandstrom, Miss. Marguerite Rut  female   4.00      1   \n",
            "14                Vestrom, Miss. Hulda Amanda Adolfina  female  14.00      0   \n",
            "22                         McGowan, Miss. Anna \"Annie\"  female  15.00      0   \n",
            "24                       Palsson, Miss. Torborg Danira  female   8.00      3   \n",
            "39                         Nicola-Yarred, Miss. Jamila  female  14.00      1   \n",
            "43            Laroche, Miss. Simonne Marie Anne Andree  female   3.00      1   \n",
            "58                        West, Miss. Constance Mirium  female   5.00      1   \n",
            "68                     Andersson, Miss. Erna Alexandra  female  17.00      4   \n",
            "71                          Goodwin, Miss. Lillian Amy  female  16.00      5   \n",
            "84                                 Ilett, Miss. Bertha  female  17.00      0   \n",
            "111                               Zabour, Miss. Hileni  female  14.50      1   \n",
            "114                              Attalah, Miss. Malake  female  17.00      0   \n",
            "119                  Andersson, Miss. Ellis Anna Maria  female   2.00      4   \n",
            "147                   Ford, Miss. Robina Maggie \"Ruby\"  female   9.00      2   \n",
            "156                   Gilnagh, Miss. Katherine \"Katie\"  female  16.00      0   \n",
            "172                       Johnson, Miss. Eleanor Ileen  female   1.00      1   \n",
            "184                Kink-Heilmann, Miss. Luise Gretchen  female   4.00      0   \n",
            "205                         Strom, Miss. Telma Matilda  female   2.00      0   \n",
            "208                          Carr, Miss. Helen \"Ellen\"  female  16.00      0   \n",
            "233                     Asplund, Miss. Lillian Gertrud  female   5.00      4   \n",
            "237                   Collyer, Miss. Marjorie \"Lottie\"  female   8.00      0   \n",
            "297                       Allison, Miss. Helen Loraine  female   2.00      1   \n",
            "307  Penasco y Castellana, Mrs. Victor de Satode (M...  female  17.00      1   \n",
            "329                       Hippach, Miss. Jean Gertrude  female  16.00      0   \n",
            "374                         Palsson, Miss. Stina Viola  female   3.00      3   \n",
            "381                        Nakid, Miss. Maria (\"Mary\")  female   1.00      0   \n",
            "389                              Lehmann, Miss. Bertha  female  17.00      0   \n",
            "419                          Van Impe, Miss. Catharina  female  10.00      0   \n",
            "435                          Carter, Miss. Lucile Polk  female  14.00      1   \n",
            "446                  Mellinger, Miss. Madeleine Violet  female  13.00      0   \n",
            "448                     Baclini, Miss. Marie Catherine  female   5.00      2   \n",
            "469                      Baclini, Miss. Helene Barbara  female   0.75      2   \n",
            "479                           Hirvonen, Miss. Hildur E  female   2.00      0   \n",
            "504                              Maioni, Miss. Roberta  female  16.00      0   \n",
            "530                           Quick, Miss. Phyllis May  female   2.00      1   \n",
            "535                             Hart, Miss. Eva Miriam  female   7.00      0   \n",
            "541               Andersson, Miss. Ingeborg Constanzia  female   9.00      4   \n",
            "542                  Andersson, Miss. Sigrid Elisabeth  female  11.00      4   \n",
            "618                        Becker, Miss. Marion Louise  female   4.00      2   \n",
            "634                                 Skoog, Miss. Mabel  female   9.00      3   \n",
            "642                      Skoog, Miss. Margit Elizabeth  female   2.00      3   \n",
            "644                             Baclini, Miss. Eugenie  female   0.75      2   \n",
            "689                  Madill, Miss. Georgette Alexandra  female  15.00      0   \n",
            "691                                 Karun, Miss. Manca  female   4.00      0   \n",
            "720                  Harper, Miss. Annie Jessie \"Nina\"  female   6.00      0   \n",
            "750                                  Wells, Miss. Joan  female   4.00      1   \n",
            "777                      Emanuel, Miss. Virginia Ethel  female   5.00      0   \n",
            "780                               Ayoub, Miss. Banoura  female  13.00      0   \n",
            "781          Dick, Mrs. Albert Adrian (Vera Gillespie)  female  17.00      1   \n",
            "813                 Andersson, Miss. Ebba Iris Alfrida  female   6.00      4   \n",
            "830            Yasbeck, Mrs. Antoni (Selini Alexander)  female  15.00      1   \n",
            "852                            Boulos, Miss. Nourelain  female   9.00      1   \n",
            "853                          Lines, Miss. Mary Conover  female  16.00      0   \n",
            "875                   Najib, Miss. Adele Kiamie \"Jane\"  female  15.00      0   \n",
            "\n",
            "     Parch         Ticket      Fare    Cabin Embarked  \n",
            "9        0         237736   30.0708      NaN        C  \n",
            "10       1        PP 9549   16.7000       G6        S  \n",
            "14       0         350406    7.8542      NaN        S  \n",
            "22       0         330923    8.0292      NaN        Q  \n",
            "24       1         349909   21.0750      NaN        S  \n",
            "39       0           2651   11.2417      NaN        C  \n",
            "43       2  SC/Paris 2123   41.5792      NaN        C  \n",
            "58       2     C.A. 34651   27.7500      NaN        S  \n",
            "68       2        3101281    7.9250      NaN        S  \n",
            "71       2        CA 2144   46.9000      NaN        S  \n",
            "84       0     SO/C 14885   10.5000      NaN        S  \n",
            "111      0           2665   14.4542      NaN        C  \n",
            "114      0           2627   14.4583      NaN        C  \n",
            "119      2         347082   31.2750      NaN        S  \n",
            "147      2     W./C. 6608   34.3750      NaN        S  \n",
            "156      0          35851    7.7333      NaN        Q  \n",
            "172      1         347742   11.1333      NaN        S  \n",
            "184      2         315153   22.0250      NaN        S  \n",
            "205      1         347054   10.4625       G6        S  \n",
            "208      0         367231    7.7500      NaN        Q  \n",
            "233      2         347077   31.3875      NaN        S  \n",
            "237      2     C.A. 31921   26.2500      NaN        S  \n",
            "297      2         113781  151.5500  C22 C26        S  \n",
            "307      0       PC 17758  108.9000      C65        C  \n",
            "329      1         111361   57.9792      B18        C  \n",
            "374      1         349909   21.0750      NaN        S  \n",
            "381      2           2653   15.7417      NaN        C  \n",
            "389      0        SC 1748   12.0000      NaN        C  \n",
            "419      2         345773   24.1500      NaN        S  \n",
            "435      2         113760  120.0000  B96 B98        S  \n",
            "446      1         250644   19.5000      NaN        S  \n",
            "448      1           2666   19.2583      NaN        C  \n",
            "469      1           2666   19.2583      NaN        C  \n",
            "479      1        3101298   12.2875      NaN        S  \n",
            "504      0         110152   86.5000      B79        S  \n",
            "530      1          26360   26.0000      NaN        S  \n",
            "535      2   F.C.C. 13529   26.2500      NaN        S  \n",
            "541      2         347082   31.2750      NaN        S  \n",
            "542      2         347082   31.2750      NaN        S  \n",
            "618      1         230136   39.0000       F4        S  \n",
            "634      2         347088   27.9000      NaN        S  \n",
            "642      2         347088   27.9000      NaN        S  \n",
            "644      1           2666   19.2583      NaN        C  \n",
            "689      1          24160  211.3375       B5        S  \n",
            "691      1         349256   13.4167      NaN        C  \n",
            "720      1         248727   33.0000      NaN        S  \n",
            "750      1          29103   23.0000      NaN        S  \n",
            "777      0         364516   12.4750      NaN        S  \n",
            "780      0           2687    7.2292      NaN        C  \n",
            "781      0          17474   57.0000      B20        S  \n",
            "813      2         347082   31.2750      NaN        S  \n",
            "830      0           2659   14.4542      NaN        C  \n",
            "852      1           2678   15.2458      NaN        C  \n",
            "853      1       PC 17592   39.4000      D28        S  \n",
            "875      0           2667    7.2250      NaN        C  \n"
          ]
        }
      ]
    },
    {
      "cell_type": "code",
      "source": [
        "# Subsetting Rows by Categorical variables\n",
        "\n",
        "# Filter for passengers whose Embarked port is either \"C\" (Cherbourg) or \"S\" (Southampton) and assign it to embarked_c_or_s\n",
        "\n",
        "embarked_c_or_s = dataset[(dataset['Embarked'] == 'C') | (dataset['Embarked'] == 'S')]\n",
        "print(\"Filtering the dataset for passengers whose embarked port is either C or S:\\n\", embarked_c_or_s)"
      ],
      "metadata": {
        "colab": {
          "base_uri": "https://localhost:8080/"
        },
        "id": "tcek2wjbenXv",
        "outputId": "1e27a806-0ba4-437a-b000-30876f2519eb"
      },
      "execution_count": 9,
      "outputs": [
        {
          "output_type": "stream",
          "name": "stdout",
          "text": [
            "Filtering the dataset for passengers whose embarked port is either C or S:\n",
            "      PassengerId  Survived  Pclass  \\\n",
            "0              1         0       3   \n",
            "1              2         1       1   \n",
            "2              3         1       3   \n",
            "3              4         1       1   \n",
            "4              5         0       3   \n",
            "..           ...       ...     ...   \n",
            "884          885         0       3   \n",
            "886          887         0       2   \n",
            "887          888         1       1   \n",
            "888          889         0       3   \n",
            "889          890         1       1   \n",
            "\n",
            "                                                  Name     Sex   Age  SibSp  \\\n",
            "0                              Braund, Mr. Owen Harris    male  22.0      1   \n",
            "1    Cumings, Mrs. John Bradley (Florence Briggs Th...  female  38.0      1   \n",
            "2                               Heikkinen, Miss. Laina  female  26.0      0   \n",
            "3         Futrelle, Mrs. Jacques Heath (Lily May Peel)  female  35.0      1   \n",
            "4                             Allen, Mr. William Henry    male  35.0      0   \n",
            "..                                                 ...     ...   ...    ...   \n",
            "884                             Sutehall, Mr. Henry Jr    male  25.0      0   \n",
            "886                              Montvila, Rev. Juozas    male  27.0      0   \n",
            "887                       Graham, Miss. Margaret Edith  female  19.0      0   \n",
            "888           Johnston, Miss. Catherine Helen \"Carrie\"  female   NaN      1   \n",
            "889                              Behr, Mr. Karl Howell    male  26.0      0   \n",
            "\n",
            "     Parch            Ticket     Fare Cabin Embarked  \n",
            "0        0         A/5 21171   7.2500   NaN        S  \n",
            "1        0          PC 17599  71.2833   C85        C  \n",
            "2        0  STON/O2. 3101282   7.9250   NaN        S  \n",
            "3        0            113803  53.1000  C123        S  \n",
            "4        0            373450   8.0500   NaN        S  \n",
            "..     ...               ...      ...   ...      ...  \n",
            "884      0   SOTON/OQ 392076   7.0500   NaN        S  \n",
            "886      0            211536  13.0000   NaN        S  \n",
            "887      0            112053  30.0000   B42        S  \n",
            "888      2        W./C. 6607  23.4500   NaN        S  \n",
            "889      0            111369  30.0000  C148        C  \n",
            "\n",
            "[812 rows x 12 columns]\n"
          ]
        }
      ]
    },
    {
      "cell_type": "code",
      "source": [
        "# filter for passengers whose Pclass is in the list [1, 2] (indicating first or second class)\n",
        "\n",
        "first_second_class = dataset[dataset['Pclass'].isin([1, 2])]\n",
        "print(\"Filtering the dataset for passengers whose Pclass is in the list[1,2]:\\n\", first_second_class)"
      ],
      "metadata": {
        "colab": {
          "base_uri": "https://localhost:8080/"
        },
        "id": "jVfwDH2CevtB",
        "outputId": "159646f0-d4a9-42ea-9146-0dd9e3900963"
      },
      "execution_count": 10,
      "outputs": [
        {
          "output_type": "stream",
          "name": "stdout",
          "text": [
            "Filtering the dataset for passengers whose Pclass is in the list[1,2]:\n",
            "      PassengerId  Survived  Pclass  \\\n",
            "1              2         1       1   \n",
            "3              4         1       1   \n",
            "6              7         0       1   \n",
            "9             10         1       2   \n",
            "11            12         1       1   \n",
            "..           ...       ...     ...   \n",
            "880          881         1       2   \n",
            "883          884         0       2   \n",
            "886          887         0       2   \n",
            "887          888         1       1   \n",
            "889          890         1       1   \n",
            "\n",
            "                                                  Name     Sex   Age  SibSp  \\\n",
            "1    Cumings, Mrs. John Bradley (Florence Briggs Th...  female  38.0      1   \n",
            "3         Futrelle, Mrs. Jacques Heath (Lily May Peel)  female  35.0      1   \n",
            "6                              McCarthy, Mr. Timothy J    male  54.0      0   \n",
            "9                  Nasser, Mrs. Nicholas (Adele Achem)  female  14.0      1   \n",
            "11                            Bonnell, Miss. Elizabeth  female  58.0      0   \n",
            "..                                                 ...     ...   ...    ...   \n",
            "880       Shelley, Mrs. William (Imanita Parrish Hall)  female  25.0      0   \n",
            "883                      Banfield, Mr. Frederick James    male  28.0      0   \n",
            "886                              Montvila, Rev. Juozas    male  27.0      0   \n",
            "887                       Graham, Miss. Margaret Edith  female  19.0      0   \n",
            "889                              Behr, Mr. Karl Howell    male  26.0      0   \n",
            "\n",
            "     Parch            Ticket     Fare Cabin Embarked  \n",
            "1        0          PC 17599  71.2833   C85        C  \n",
            "3        0            113803  53.1000  C123        S  \n",
            "6        0             17463  51.8625   E46        S  \n",
            "9        0            237736  30.0708   NaN        C  \n",
            "11       0            113783  26.5500  C103        S  \n",
            "..     ...               ...      ...   ...      ...  \n",
            "880      1            230433  26.0000   NaN        S  \n",
            "883      0  C.A./SOTON 34068  10.5000   NaN        S  \n",
            "886      0            211536  13.0000   NaN        S  \n",
            "887      0            112053  30.0000   B42        S  \n",
            "889      0            111369  30.0000  C148        C  \n",
            "\n",
            "[400 rows x 12 columns]\n"
          ]
        }
      ]
    },
    {
      "cell_type": "markdown",
      "source": [
        "3.2 Exploratory Data Analysis Practice Exercise - 1.\n",
        "Warning: Handle missing values in the Age column by filling them with the median age of\n",
        "\n",
        "the dataset before performing the division.)\n",
        "\n",
        "Answer the following questions from Dataset:\n",
        "Which passenger had the highest fare paid relative to their age?\n",
        "To answer the question perform following operations:\n",
        "1. Add a column to the Titanic dataset, fare per year, containing the fare divided by the age of\n",
        "the passenger(i.e., Fare/Age).\n",
        "2. Subset rows where fare per year is higher than 5, assigning this to high fare age.\n",
        "3. Sort high fare age by descending fare per year, assigning this to high fare age srt.\n",
        "4. Select only the Name and fare per year columns of high fare age srt and save the result as result.\n",
        "5. Look at the result."
      ],
      "metadata": {
        "id": "j7JM1VY1e90_"
      }
    },
    {
      "cell_type": "code",
      "source": [
        "# Add a column for fare per year, containing the fare divided by the age of the passenger\n",
        "\n",
        "dataset['Fare_per_Year'] = dataset['Fare'] / dataset['Age']\n",
        "print(\"The dataset with added colum fare per year is:\\n\",dataset.head())"
      ],
      "metadata": {
        "colab": {
          "base_uri": "https://localhost:8080/"
        },
        "id": "RBtXQ263e-po",
        "outputId": "50e39db1-75cf-4e35-ceda-4ab232900833"
      },
      "execution_count": 11,
      "outputs": [
        {
          "output_type": "stream",
          "name": "stdout",
          "text": [
            "The dataset with added colum fare per year is:\n",
            "    PassengerId  Survived  Pclass  \\\n",
            "0            1         0       3   \n",
            "1            2         1       1   \n",
            "2            3         1       3   \n",
            "3            4         1       1   \n",
            "4            5         0       3   \n",
            "\n",
            "                                                Name     Sex   Age  SibSp  \\\n",
            "0                            Braund, Mr. Owen Harris    male  22.0      1   \n",
            "1  Cumings, Mrs. John Bradley (Florence Briggs Th...  female  38.0      1   \n",
            "2                             Heikkinen, Miss. Laina  female  26.0      0   \n",
            "3       Futrelle, Mrs. Jacques Heath (Lily May Peel)  female  35.0      1   \n",
            "4                           Allen, Mr. William Henry    male  35.0      0   \n",
            "\n",
            "   Parch            Ticket     Fare Cabin Embarked  Fare_per_Year  \n",
            "0      0         A/5 21171   7.2500   NaN        S       0.329545  \n",
            "1      0          PC 17599  71.2833   C85        C       1.875876  \n",
            "2      0  STON/O2. 3101282   7.9250   NaN        S       0.304808  \n",
            "3      0            113803  53.1000  C123        S       1.517143  \n",
            "4      0            373450   8.0500   NaN        S       0.230000  \n"
          ]
        }
      ]
    },
    {
      "cell_type": "code",
      "source": [
        "# Subset rows where fare per year is higher than 5, assigning this to high_fare_age\n",
        "\n",
        "high_fare_age = dataset[dataset['Fare_per_Year'] > 5]\n",
        "print(\"The subset of rows where fare_per_Year is higher than 5 is:\\n\", high_fare_age)"
      ],
      "metadata": {
        "colab": {
          "base_uri": "https://localhost:8080/"
        },
        "id": "1JHl-Bb7fj4k",
        "outputId": "20ee3dae-032b-41f5-d399-14b09943d0a0"
      },
      "execution_count": 12,
      "outputs": [
        {
          "output_type": "stream",
          "name": "stdout",
          "text": [
            "The subset of rows where fare_per_Year is higher than 5 is:\n",
            "      PassengerId  Survived  Pclass                                      Name  \\\n",
            "7              8         0       3            Palsson, Master. Gosta Leonard   \n",
            "16            17         0       3                      Rice, Master. Eugene   \n",
            "27            28         0       1            Fortune, Mr. Charles Alexander   \n",
            "43            44         1       2  Laroche, Miss. Simonne Marie Anne Andree   \n",
            "50            51         0       3                Panula, Master. Juha Niilo   \n",
            "..           ...       ...     ...                                       ...   \n",
            "813          814         0       3        Andersson, Miss. Ebba Iris Alfrida   \n",
            "824          825         0       3              Panula, Master. Urho Abraham   \n",
            "827          828         1       2                     Mallet, Master. Andre   \n",
            "831          832         1       2           Richards, Master. George Sibley   \n",
            "850          851         0       3   Andersson, Master. Sigvard Harald Elias   \n",
            "\n",
            "        Sex    Age  SibSp  Parch           Ticket      Fare        Cabin  \\\n",
            "7      male   2.00      3      1           349909   21.0750          NaN   \n",
            "16     male   2.00      4      1           382652   29.1250          NaN   \n",
            "27     male  19.00      3      2            19950  263.0000  C23 C25 C27   \n",
            "43   female   3.00      1      2    SC/Paris 2123   41.5792          NaN   \n",
            "50     male   7.00      4      1          3101295   39.6875          NaN   \n",
            "..      ...    ...    ...    ...              ...       ...          ...   \n",
            "813  female   6.00      4      2           347082   31.2750          NaN   \n",
            "824    male   2.00      4      1          3101295   39.6875          NaN   \n",
            "827    male   1.00      0      2  S.C./PARIS 2079   37.0042          NaN   \n",
            "831    male   0.83      1      1            29106   18.7500          NaN   \n",
            "850    male   4.00      4      2           347082   31.2750          NaN   \n",
            "\n",
            "    Embarked  Fare_per_Year  \n",
            "7          S      10.537500  \n",
            "16         Q      14.562500  \n",
            "27         S      13.842105  \n",
            "43         C      13.859733  \n",
            "50         S       5.669643  \n",
            "..       ...            ...  \n",
            "813        S       5.212500  \n",
            "824        S      19.843750  \n",
            "827        C      37.004200  \n",
            "831        S      22.590361  \n",
            "850        S       7.818750  \n",
            "\n",
            "[68 rows x 13 columns]\n"
          ]
        }
      ]
    },
    {
      "cell_type": "code",
      "source": [
        "# Sort high fare age by descending fare per year, assigning this to high fare age srt.\n",
        "\n",
        "high_fare_age_srt = high_fare_age.sort_values(by='Fare_per_Year', ascending=False)\n",
        "print(\"Sorting high fare age in descending order:\\n\",high_fare_age_srt)"
      ],
      "metadata": {
        "colab": {
          "base_uri": "https://localhost:8080/"
        },
        "id": "fygw1351fna-",
        "outputId": "3eefb3d5-cbe6-413d-e6a2-f43db8961993"
      },
      "execution_count": 13,
      "outputs": [
        {
          "output_type": "stream",
          "name": "stdout",
          "text": [
            "Sorting high fare age in descending order:\n",
            "      PassengerId  Survived  Pclass                                    Name  \\\n",
            "305          306         1       1          Allison, Master. Hudson Trevor   \n",
            "297          298         0       1            Allison, Miss. Helen Loraine   \n",
            "386          387         0       3         Goodwin, Master. Sidney Leonard   \n",
            "164          165         0       3            Panula, Master. Eino Viljami   \n",
            "183          184         1       2               Becker, Master. Richard F   \n",
            "..           ...       ...     ...                                     ...   \n",
            "318          319         1       1                Wick, Miss. Mary Natalie   \n",
            "348          349         1       3  Coutts, Master. William Loch \"William\"   \n",
            "205          206         0       3              Strom, Miss. Telma Matilda   \n",
            "813          814         0       3      Andersson, Miss. Ebba Iris Alfrida   \n",
            "480          481         0       3          Goodwin, Master. Harold Victor   \n",
            "\n",
            "        Sex    Age  SibSp  Parch      Ticket      Fare    Cabin Embarked  \\\n",
            "305    male   0.92      1      2      113781  151.5500  C22 C26        S   \n",
            "297  female   2.00      1      2      113781  151.5500  C22 C26        S   \n",
            "386    male   1.00      5      2     CA 2144   46.9000      NaN        S   \n",
            "164    male   1.00      4      1     3101295   39.6875      NaN        S   \n",
            "183    male   1.00      2      1      230136   39.0000       F4        S   \n",
            "..      ...    ...    ...    ...         ...       ...      ...      ...   \n",
            "318  female  31.00      0      2       36928  164.8667       C7        S   \n",
            "348    male   3.00      1      1  C.A. 37671   15.9000      NaN        S   \n",
            "205  female   2.00      0      1      347054   10.4625       G6        S   \n",
            "813  female   6.00      4      2      347082   31.2750      NaN        S   \n",
            "480    male   9.00      5      2     CA 2144   46.9000      NaN        S   \n",
            "\n",
            "     Fare_per_Year  \n",
            "305     164.728261  \n",
            "297      75.775000  \n",
            "386      46.900000  \n",
            "164      39.687500  \n",
            "183      39.000000  \n",
            "..             ...  \n",
            "318       5.318281  \n",
            "348       5.300000  \n",
            "205       5.231250  \n",
            "813       5.212500  \n",
            "480       5.211111  \n",
            "\n",
            "[68 rows x 13 columns]\n"
          ]
        }
      ]
    },
    {
      "cell_type": "code",
      "source": [
        "# Select only the Name and fare per year columns of high fare age srt and save the result as result.\n",
        "\n",
        "result = high_fare_age_srt[['Name', 'Fare_per_Year']]\n",
        "print(\"Result of selecting only the Name and Fare_per_Year is:\\n\",result)"
      ],
      "metadata": {
        "colab": {
          "base_uri": "https://localhost:8080/"
        },
        "id": "ADW-yBBCfq7h",
        "outputId": "ab441b37-b3c2-4964-c875-55bd4d7ee6ca"
      },
      "execution_count": 14,
      "outputs": [
        {
          "output_type": "stream",
          "name": "stdout",
          "text": [
            "Result of selecting only the Name and Fare_per_Year is:\n",
            "                                        Name  Fare_per_Year\n",
            "305          Allison, Master. Hudson Trevor     164.728261\n",
            "297            Allison, Miss. Helen Loraine      75.775000\n",
            "386         Goodwin, Master. Sidney Leonard      46.900000\n",
            "164            Panula, Master. Eino Viljami      39.687500\n",
            "183               Becker, Master. Richard F      39.000000\n",
            "..                                      ...            ...\n",
            "318                Wick, Miss. Mary Natalie       5.318281\n",
            "348  Coutts, Master. William Loch \"William\"       5.300000\n",
            "205              Strom, Miss. Telma Matilda       5.231250\n",
            "813      Andersson, Miss. Ebba Iris Alfrida       5.212500\n",
            "480          Goodwin, Master. Harold Victor       5.211111\n",
            "\n",
            "[68 rows x 2 columns]\n"
          ]
        }
      ]
    },
    {
      "cell_type": "markdown",
      "source": [
        "Here, Allison, Master. Hudson Trevor have the highest fare paid relative to age."
      ],
      "metadata": {
        "id": "xSluq5R6f3UH"
      }
    },
    {
      "cell_type": "markdown",
      "source": [
        "Which adult male passenger (age ≥ 18 and Sex is ’male’) paid the highest fare relative to their\n",
        "class?\n",
        "To answer the question perform following operations:\n",
        "1. Add a column to the Titanic dataset, fare per class, containing the fare divided by the passenger\n",
        "class i.e. Fare / Pclass.\n",
        "2. Subset rows where the passenger is male (Sex is ”male”) and an adult (Age is greater than or equal\n",
        "to 18), assigning this to adult males.\n",
        "3. Sort adult males by descending fare per class, assigning this to adult males srt.\n",
        "4. Select only the Name, Age, and fare per class columns of adult males sr and save the result\n",
        "as result.\n",
        "5. Look at the result."
      ],
      "metadata": {
        "id": "Lan2DcEBf4PC"
      }
    },
    {
      "cell_type": "code",
      "source": [
        "# add a column for fare_per_class, containing the fare divided by the passenger class\n",
        "\n",
        "dataset['Fare_per_class'] = dataset['Fare'] / dataset['Pclass']\n",
        "print(\"Dataset after adding new column Fare_per_class is:\\n\", dataset.head())"
      ],
      "metadata": {
        "colab": {
          "base_uri": "https://localhost:8080/"
        },
        "id": "jaLjyaYif_as",
        "outputId": "95420c3e-7c18-4dd3-b680-2353fd1355df"
      },
      "execution_count": 15,
      "outputs": [
        {
          "output_type": "stream",
          "name": "stdout",
          "text": [
            "Dataset after adding new column Fare_per_class is:\n",
            "    PassengerId  Survived  Pclass  \\\n",
            "0            1         0       3   \n",
            "1            2         1       1   \n",
            "2            3         1       3   \n",
            "3            4         1       1   \n",
            "4            5         0       3   \n",
            "\n",
            "                                                Name     Sex   Age  SibSp  \\\n",
            "0                            Braund, Mr. Owen Harris    male  22.0      1   \n",
            "1  Cumings, Mrs. John Bradley (Florence Briggs Th...  female  38.0      1   \n",
            "2                             Heikkinen, Miss. Laina  female  26.0      0   \n",
            "3       Futrelle, Mrs. Jacques Heath (Lily May Peel)  female  35.0      1   \n",
            "4                           Allen, Mr. William Henry    male  35.0      0   \n",
            "\n",
            "   Parch            Ticket     Fare Cabin Embarked  Fare_per_Year  \\\n",
            "0      0         A/5 21171   7.2500   NaN        S       0.329545   \n",
            "1      0          PC 17599  71.2833   C85        C       1.875876   \n",
            "2      0  STON/O2. 3101282   7.9250   NaN        S       0.304808   \n",
            "3      0            113803  53.1000  C123        S       1.517143   \n",
            "4      0            373450   8.0500   NaN        S       0.230000   \n",
            "\n",
            "   Fare_per_class  \n",
            "0        2.416667  \n",
            "1       71.283300  \n",
            "2        2.641667  \n",
            "3       53.100000  \n",
            "4        2.683333  \n"
          ]
        }
      ]
    },
    {
      "cell_type": "code",
      "source": [
        "# subset rows wehre passenger is male and an adult and assert to adult_males\n",
        "\n",
        "adult_males = dataset[(dataset['Sex'] == \"male\") & (dataset['Age'] >= 18)]\n",
        "print(\"Subset of rows where passenger is an adult male is:\\n\", adult_males)"
      ],
      "metadata": {
        "colab": {
          "base_uri": "https://localhost:8080/"
        },
        "id": "Rstsh2t8gGYY",
        "outputId": "78869712-2ced-4dbe-b2dd-e5d2e3faae30"
      },
      "execution_count": 16,
      "outputs": [
        {
          "output_type": "stream",
          "name": "stdout",
          "text": [
            "Subset of rows where passenger is an adult male is:\n",
            "      PassengerId  Survived  Pclass                            Name   Sex  \\\n",
            "0              1         0       3         Braund, Mr. Owen Harris  male   \n",
            "4              5         0       3        Allen, Mr. William Henry  male   \n",
            "6              7         0       1         McCarthy, Mr. Timothy J  male   \n",
            "12            13         0       3  Saundercock, Mr. William Henry  male   \n",
            "13            14         0       3     Andersson, Mr. Anders Johan  male   \n",
            "..           ...       ...     ...                             ...   ...   \n",
            "883          884         0       2   Banfield, Mr. Frederick James  male   \n",
            "884          885         0       3          Sutehall, Mr. Henry Jr  male   \n",
            "886          887         0       2           Montvila, Rev. Juozas  male   \n",
            "889          890         1       1           Behr, Mr. Karl Howell  male   \n",
            "890          891         0       3             Dooley, Mr. Patrick  male   \n",
            "\n",
            "      Age  SibSp  Parch            Ticket     Fare Cabin Embarked  \\\n",
            "0    22.0      1      0         A/5 21171   7.2500   NaN        S   \n",
            "4    35.0      0      0            373450   8.0500   NaN        S   \n",
            "6    54.0      0      0             17463  51.8625   E46        S   \n",
            "12   20.0      0      0         A/5. 2151   8.0500   NaN        S   \n",
            "13   39.0      1      5            347082  31.2750   NaN        S   \n",
            "..    ...    ...    ...               ...      ...   ...      ...   \n",
            "883  28.0      0      0  C.A./SOTON 34068  10.5000   NaN        S   \n",
            "884  25.0      0      0   SOTON/OQ 392076   7.0500   NaN        S   \n",
            "886  27.0      0      0            211536  13.0000   NaN        S   \n",
            "889  26.0      0      0            111369  30.0000  C148        C   \n",
            "890  32.0      0      0            370376   7.7500   NaN        Q   \n",
            "\n",
            "     Fare_per_Year  Fare_per_class  \n",
            "0         0.329545        2.416667  \n",
            "4         0.230000        2.683333  \n",
            "6         0.960417       51.862500  \n",
            "12        0.402500        2.683333  \n",
            "13        0.801923       10.425000  \n",
            "..             ...             ...  \n",
            "883       0.375000        5.250000  \n",
            "884       0.282000        2.350000  \n",
            "886       0.481481        6.500000  \n",
            "889       1.153846       30.000000  \n",
            "890       0.242188        2.583333  \n",
            "\n",
            "[395 rows x 14 columns]\n"
          ]
        }
      ]
    },
    {
      "cell_type": "code",
      "source": [
        "# Sort adult males by descending fare per class, assigning this to adult_males_srt\n",
        "\n",
        "adult_males_srt = adult_males.sort_values(by='Fare_per_class', ascending=False)\n",
        "print(\"Sorting adult males by descending of fare per class:\\n\", adult_males_srt)"
      ],
      "metadata": {
        "colab": {
          "base_uri": "https://localhost:8080/"
        },
        "id": "IbPKiDFxgKse",
        "outputId": "f43bbd4f-a847-447c-c764-89b967586718"
      },
      "execution_count": 17,
      "outputs": [
        {
          "output_type": "stream",
          "name": "stdout",
          "text": [
            "Sorting adult males by descending of fare per class:\n",
            "      PassengerId  Survived  Pclass                                Name   Sex  \\\n",
            "737          738         1       1              Lesurer, Mr. Gustave J  male   \n",
            "679          680         1       1  Cardeza, Mr. Thomas Drake Martinez  male   \n",
            "27            28         0       1      Fortune, Mr. Charles Alexander  male   \n",
            "438          439         0       1                   Fortune, Mr. Mark  male   \n",
            "118          119         0       1            Baxter, Mr. Quigg Edmond  male   \n",
            "..           ...       ...     ...                                 ...   ...   \n",
            "271          272         1       3        Tornquist, Mr. William Henry  male   \n",
            "179          180         0       3                 Leonard, Mr. Lionel  male   \n",
            "302          303         0       3     Johnson, Mr. William Cahoone Jr  male   \n",
            "822          823         0       1     Reuchlin, Jonkheer. John George  male   \n",
            "806          807         0       1              Andrews, Mr. Thomas Jr  male   \n",
            "\n",
            "      Age  SibSp  Parch    Ticket      Fare        Cabin Embarked  \\\n",
            "737  35.0      0      0  PC 17755  512.3292         B101        C   \n",
            "679  36.0      0      1  PC 17755  512.3292  B51 B53 B55        C   \n",
            "27   19.0      3      2     19950  263.0000  C23 C25 C27        S   \n",
            "438  64.0      1      4     19950  263.0000  C23 C25 C27        S   \n",
            "118  24.0      0      1  PC 17558  247.5208      B58 B60        C   \n",
            "..    ...    ...    ...       ...       ...          ...      ...   \n",
            "271  25.0      0      0      LINE    0.0000          NaN        S   \n",
            "179  36.0      0      0      LINE    0.0000          NaN        S   \n",
            "302  19.0      0      0      LINE    0.0000          NaN        S   \n",
            "822  38.0      0      0     19972    0.0000          NaN        S   \n",
            "806  39.0      0      0    112050    0.0000          A36        S   \n",
            "\n",
            "     Fare_per_Year  Fare_per_class  \n",
            "737      14.637977        512.3292  \n",
            "679      14.231367        512.3292  \n",
            "27       13.842105        263.0000  \n",
            "438       4.109375        263.0000  \n",
            "118      10.313367        247.5208  \n",
            "..             ...             ...  \n",
            "271       0.000000          0.0000  \n",
            "179       0.000000          0.0000  \n",
            "302       0.000000          0.0000  \n",
            "822       0.000000          0.0000  \n",
            "806       0.000000          0.0000  \n",
            "\n",
            "[395 rows x 14 columns]\n"
          ]
        }
      ]
    },
    {
      "cell_type": "code",
      "source": [
        "# Select only the Name, Age, and fare per class columns of adult males srt and save the result as result.\n",
        "\n",
        "result = adult_males_srt[['Name', 'Age', 'Fare_per_class']]\n",
        "print(\"Selection of only Name, Age and Fare_per_Class of adult_males_srt is:\\n\", result)"
      ],
      "metadata": {
        "colab": {
          "base_uri": "https://localhost:8080/"
        },
        "id": "pAXosJwvgQ11",
        "outputId": "4a7c46ad-1f51-4c86-8a02-c6d0fcbcbefa"
      },
      "execution_count": 18,
      "outputs": [
        {
          "output_type": "stream",
          "name": "stdout",
          "text": [
            "Selection of only Name, Age and Fare_per_Class of adult_males_srt is:\n",
            "                                    Name   Age  Fare_per_class\n",
            "737              Lesurer, Mr. Gustave J  35.0        512.3292\n",
            "679  Cardeza, Mr. Thomas Drake Martinez  36.0        512.3292\n",
            "27       Fortune, Mr. Charles Alexander  19.0        263.0000\n",
            "438                   Fortune, Mr. Mark  64.0        263.0000\n",
            "118            Baxter, Mr. Quigg Edmond  24.0        247.5208\n",
            "..                                  ...   ...             ...\n",
            "271        Tornquist, Mr. William Henry  25.0          0.0000\n",
            "179                 Leonard, Mr. Lionel  36.0          0.0000\n",
            "302     Johnson, Mr. William Cahoone Jr  19.0          0.0000\n",
            "822     Reuchlin, Jonkheer. John George  38.0          0.0000\n",
            "806              Andrews, Mr. Thomas Jr  39.0          0.0000\n",
            "\n",
            "[395 rows x 3 columns]\n"
          ]
        }
      ]
    },
    {
      "cell_type": "markdown",
      "source": [
        "Which adult male passenger (age ≥ 18 and Sex is ’male’) paid the highest fare relative to their class?\n",
        "\n",
        "Answer: Lesurer, Mr. Gustave J and Cardeza, Mr. Thomas Drake Martine have the highest fare relative to their class."
      ],
      "metadata": {
        "id": "ijxAayf_gX8g"
      }
    },
    {
      "cell_type": "markdown",
      "source": [
        "3.3 Exploratory Data Analysis with Group-by Method Practice Exercise:\n",
        "Based on the dataset Answer the following question:\n",
        "What percent of the total fare revenue came from each passenger class?\n",
        "To answer the question perform following operation:\n",
        "1. Calculate the total Fare paid across all passengers in the Titanic dataset.\n",
        "2. Subset for passengers in first class (Pclass is 1) and calculate their total fare.\n",
        "3. Do the same for second class (Pclass is 2) and third class (Pclass is 3).\n",
        "4. Combine the fare totals from first, second, and third classes into a list.\n",
        "5. Divide the totals for each class by the overall total fare to get the proportion of fare revenue by class."
      ],
      "metadata": {
        "id": "8Pg6ypjHgbbg"
      }
    },
    {
      "cell_type": "code",
      "source": [
        "# Calculate the total Fare paid across all passengers in the Titanic dataset\n",
        "\n",
        "total_fare = dataset['Fare'].sum()\n",
        "print(\"The sum of all the Fare is: \", total_fare)"
      ],
      "metadata": {
        "colab": {
          "base_uri": "https://localhost:8080/"
        },
        "id": "vRvqgL7vghjs",
        "outputId": "6bf1dbbf-1f01-440d-ac72-e06370cdaffc"
      },
      "execution_count": 19,
      "outputs": [
        {
          "output_type": "stream",
          "name": "stdout",
          "text": [
            "The sum of all the Fare is:  28693.9493\n"
          ]
        }
      ]
    },
    {
      "cell_type": "code",
      "source": [
        "# Subset for passengers in first class (Pclass is 1) and calculate their total fare\n",
        "\n",
        "first_class = dataset[dataset['Pclass'] == 1]\n",
        "total_fare1 = first_class['Fare'].sum()\n",
        "print(\"The sum of all the First Class fare is: \", total_fare1)"
      ],
      "metadata": {
        "colab": {
          "base_uri": "https://localhost:8080/"
        },
        "id": "AWjRj6BpglYb",
        "outputId": "4018c6d7-053b-429f-eb51-03f073ca00a9"
      },
      "execution_count": 20,
      "outputs": [
        {
          "output_type": "stream",
          "name": "stdout",
          "text": [
            "The sum of all the First Class fare is:  18177.4125\n"
          ]
        }
      ]
    },
    {
      "cell_type": "code",
      "source": [
        "# Do the same for second class (Pclass is 2) and third class (Pclass is 3).\n",
        "\n",
        "second_class = dataset[dataset['Pclass'] == 2]\n",
        "total_fare2 = second_class['Fare'].sum()\n",
        "print(\"Total fare of second class is: \", total_fare2)\n",
        "\n",
        "third_class = dataset[dataset['Pclass'] == 3]\n",
        "total_fare3 = third_class['Fare'].sum()\n",
        "print(\"Total fare of third class is: \", total_fare3)"
      ],
      "metadata": {
        "colab": {
          "base_uri": "https://localhost:8080/"
        },
        "id": "-CjMuJ3Ngn5n",
        "outputId": "af7d616e-99ba-4005-892d-5178c6d255f5"
      },
      "execution_count": 21,
      "outputs": [
        {
          "output_type": "stream",
          "name": "stdout",
          "text": [
            "Total fare of second class is:  3801.8417\n",
            "Total fare of third class is:  6714.6951\n"
          ]
        }
      ]
    },
    {
      "cell_type": "code",
      "source": [
        "# Combine the fare totals from first, second, and third classes into a list.\n",
        "\n",
        "fare_list = [total_fare1, total_fare2, total_fare3]\n",
        "print(\"List of total fares of first, second and third classes is: \", fare_list)"
      ],
      "metadata": {
        "colab": {
          "base_uri": "https://localhost:8080/"
        },
        "id": "pKudXR9ogssZ",
        "outputId": "ef22b65c-ed1c-449d-f1f7-58917a2fa6bb"
      },
      "execution_count": 22,
      "outputs": [
        {
          "output_type": "stream",
          "name": "stdout",
          "text": [
            "List of total fares of first, second and third classes is:  [18177.4125, 3801.8417, 6714.6951]\n"
          ]
        }
      ]
    },
    {
      "cell_type": "code",
      "source": [
        "# Divide the totals for each class by the overall total fare to get the proportion of fare revenue by class.\n",
        "\n",
        "proportion_list = [total_fare1/total_fare, total_fare2/total_fare, total_fare3/total_fare]\n",
        "print(\"The proportion of total fares of first, second and third classes is: \", proportion_list)"
      ],
      "metadata": {
        "colab": {
          "base_uri": "https://localhost:8080/"
        },
        "id": "7NfpqJ1ngwQT",
        "outputId": "de69bfc6-a3ed-43cb-864f-862e07c8fc4d"
      },
      "execution_count": 23,
      "outputs": [
        {
          "output_type": "stream",
          "name": "stdout",
          "text": [
            "The proportion of total fares of first, second and third classes is:  [0.6334928771899656, 0.1324962855496507, 0.23401083726038366]\n"
          ]
        }
      ]
    },
    {
      "cell_type": "markdown",
      "source": [
        "Based on the dataset Answer the following question:\n",
        "What percent of the total number of passengers on the Titanic belonged to each age group\n",
        "(e.g., child, adult, senior)?\n",
        "To answer the question perform following operation:\n",
        "1. Create a new column, age group, that categorizes passengers into \"child\" (age < 18), \"adult\" (age\n",
        "18{64), and \"senior\" (age 65 and above).\n",
        "2. Calculate the total number of passengers on the Titanic.\n",
        "3. Count the number of passengers in each age group.\n",
        "4. Divide the count of each age group by the total number of passengers to get the proportion of passengers\n",
        "in each age group.\n",
        "5. Display the proportion as a percentage."
      ],
      "metadata": {
        "id": "TVyRTZbmg45m"
      }
    },
    {
      "cell_type": "code",
      "source": [
        "# Create a new column, age group, that categorizes passengers into \"child\" (age < 18), \"adult\" (age 18{64), and \"senior\" (age 65 and above).\n",
        "\n",
        "dataset['Age_Group'] = pd.cut(dataset['Age'], bins=[0, 18, 64, float('inf')], labels=['child', 'adult', 'senior'])\n",
        "print(\"Dataset after adding new column, Age_Group is:\\n\", dataset.head())"
      ],
      "metadata": {
        "colab": {
          "base_uri": "https://localhost:8080/"
        },
        "id": "BSqHUnDgg9yt",
        "outputId": "fb443a25-6892-4a5e-a6fe-7b6546ef6256"
      },
      "execution_count": 24,
      "outputs": [
        {
          "output_type": "stream",
          "name": "stdout",
          "text": [
            "Dataset after adding new column, Age_Group is:\n",
            "    PassengerId  Survived  Pclass  \\\n",
            "0            1         0       3   \n",
            "1            2         1       1   \n",
            "2            3         1       3   \n",
            "3            4         1       1   \n",
            "4            5         0       3   \n",
            "\n",
            "                                                Name     Sex   Age  SibSp  \\\n",
            "0                            Braund, Mr. Owen Harris    male  22.0      1   \n",
            "1  Cumings, Mrs. John Bradley (Florence Briggs Th...  female  38.0      1   \n",
            "2                             Heikkinen, Miss. Laina  female  26.0      0   \n",
            "3       Futrelle, Mrs. Jacques Heath (Lily May Peel)  female  35.0      1   \n",
            "4                           Allen, Mr. William Henry    male  35.0      0   \n",
            "\n",
            "   Parch            Ticket     Fare Cabin Embarked  Fare_per_Year  \\\n",
            "0      0         A/5 21171   7.2500   NaN        S       0.329545   \n",
            "1      0          PC 17599  71.2833   C85        C       1.875876   \n",
            "2      0  STON/O2. 3101282   7.9250   NaN        S       0.304808   \n",
            "3      0            113803  53.1000  C123        S       1.517143   \n",
            "4      0            373450   8.0500   NaN        S       0.230000   \n",
            "\n",
            "   Fare_per_class Age_Group  \n",
            "0        2.416667     adult  \n",
            "1       71.283300     adult  \n",
            "2        2.641667     adult  \n",
            "3       53.100000     adult  \n",
            "4        2.683333     adult  \n"
          ]
        }
      ]
    },
    {
      "cell_type": "code",
      "source": [
        "# Calculate the total number of passengers on the Titanic.\n",
        "\n",
        "total_passengers = len(dataset)\n",
        "print(\"The total number of passengers is: \", total_passengers)"
      ],
      "metadata": {
        "colab": {
          "base_uri": "https://localhost:8080/"
        },
        "id": "yARww4uYhBPW",
        "outputId": "c37fd4bc-7509-4dde-cc9a-6aa2d6d0e478"
      },
      "execution_count": 25,
      "outputs": [
        {
          "output_type": "stream",
          "name": "stdout",
          "text": [
            "The total number of passengers is:  891\n"
          ]
        }
      ]
    },
    {
      "cell_type": "code",
      "source": [
        "# Count the number of passengers in each age group.\n",
        "\n",
        "age_group_counts = dataset['Age_Group'].value_counts()\n",
        "print(\"The total number of passengers in each age group is:\\n\", age_group_counts)"
      ],
      "metadata": {
        "colab": {
          "base_uri": "https://localhost:8080/"
        },
        "id": "M85Pcz0chCMZ",
        "outputId": "41c87f5a-a3d3-486e-bdf0-dd773ef32cf8"
      },
      "execution_count": 26,
      "outputs": [
        {
          "output_type": "stream",
          "name": "stdout",
          "text": [
            "The total number of passengers in each age group is:\n",
            " Age_Group\n",
            "adult     564\n",
            "child     139\n",
            "senior     11\n",
            "Name: count, dtype: int64\n"
          ]
        }
      ]
    },
    {
      "cell_type": "code",
      "source": [
        "# Divide the count of each age group by the total number of passengers to get the proportion of passengers in each age group.\n",
        "\n",
        "age_group_proportions = age_group_counts / total_passengers\n",
        "print(\"The proportions of age group counts is:\\n\", age_group_proportions)"
      ],
      "metadata": {
        "colab": {
          "base_uri": "https://localhost:8080/"
        },
        "id": "zYo_DU-_hGY9",
        "outputId": "a0d0e415-7776-4260-b539-7edf394a26e3"
      },
      "execution_count": 27,
      "outputs": [
        {
          "output_type": "stream",
          "name": "stdout",
          "text": [
            "The proportions of age group counts is:\n",
            " Age_Group\n",
            "adult     0.632997\n",
            "child     0.156004\n",
            "senior    0.012346\n",
            "Name: count, dtype: float64\n"
          ]
        }
      ]
    },
    {
      "cell_type": "code",
      "source": [
        "# Display the proportion as a percentage.\n",
        "\n",
        "age_group_percentages = age_group_proportions * 100\n",
        "print(\"The percentage of age group counts is:\\n\", age_group_percentages)"
      ],
      "metadata": {
        "colab": {
          "base_uri": "https://localhost:8080/"
        },
        "id": "8-eQGT9fhJE9",
        "outputId": "657ee30b-ded3-451b-8f50-7ea56a8ab8c1"
      },
      "execution_count": 28,
      "outputs": [
        {
          "output_type": "stream",
          "name": "stdout",
          "text": [
            "The percentage of age group counts is:\n",
            " Age_Group\n",
            "adult     63.299663\n",
            "child     15.600449\n",
            "senior     1.234568\n",
            "Name: count, dtype: float64\n"
          ]
        }
      ]
    }
  ]
}