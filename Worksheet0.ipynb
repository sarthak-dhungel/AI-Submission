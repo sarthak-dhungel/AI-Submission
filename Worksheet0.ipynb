{
  "nbformat": 4,
  "nbformat_minor": 0,
  "metadata": {
    "colab": {
      "provenance": []
    },
    "kernelspec": {
      "name": "python3",
      "display_name": "Python 3"
    },
    "language_info": {
      "name": "python"
    }
  },
  "cells": [
    {
      "cell_type": "code",
      "execution_count": 8,
      "metadata": {
        "colab": {
          "base_uri": "https://localhost:8080/",
          "height": 804
        },
        "id": "qkWB0pxFlu1F",
        "outputId": "44a52778-01c4-49a9-ac8e-093826bcf94e"
      },
      "outputs": [
        {
          "output_type": "stream",
          "name": "stdout",
          "text": [
            "Cold temperatures (<10°C): [8.2, 7.9, 9.0, 8.5, 7.7, 8.4, 9.5, 8.1, 7.6, 8.0, 7.8, 8.7, 9.2, 8.3, 8.9, 7.8]\n",
            "Mild temperatures (10°C - 15°C): [14.1, 13.5, 13.0, 12.9, 13.3, 14.0, 13.4, 14.2, 12.8, 13.7, 13.6, 13.8, 13.9, 12.7, 13.1, 12.5]\n",
            "Comfortable temperatures (15°C - 20°C): [17.4, 18.0, 17.8, 16.5, 17.2, 16.7, 18.3, 17.9, 17.0, 16.8, 17.5, 17.1, 18.1, 16.4, 18.2, 16.6]\n",
            "\n",
            "\n",
            "Number of times it was mild: 16\n",
            "Number of times it was comfortable: 16\n",
            "Number of times it was cold: 16\n",
            "\n",
            "\n",
            "Temperatures in Fahrenheit: [46.76, 63.32, 57.379999999999995, 46.22, 64.4, 56.3, 48.2, 64.04, 55.4, 47.3, 61.7, 55.22, 45.86, 62.959999999999994, 55.94, 47.120000000000005, 62.059999999999995, 57.2, 49.1, 64.94, 56.120000000000005, 46.58, 64.22, 57.56, 45.68, 62.6, 55.04, 46.4, 62.24, 56.66, 46.04, 63.5, 56.48, 47.66, 62.78, 56.84, 48.56, 64.58, 57.02, 46.94, 61.519999999999996, 54.86, 48.02, 64.75999999999999, 55.58, 46.04, 61.88, 54.5]\n",
            "\n",
            "\n",
            "Average Night Temperature: 8.35°C\n",
            "Average Evening Temperature: 17.34°C\n",
            "Average Day Temperature: 13.41°C\n",
            "\n",
            "\n"
          ]
        },
        {
          "output_type": "display_data",
          "data": {
            "text/plain": [
              "<Figure size 640x480 with 1 Axes>"
            ],
            "image/png": "[encoded data removed]"
          },
          "metadata": {}
        }
      ],
      "source": [
        "temperatures = [8.2, 17.4, 14.1, 7.9, 18.0, 13.5, 9.0, 17.8, 13.0, 8.5,\n",
        "                16.5, 12.9, 7.7, 17.2, 13.3, 8.4, 16.7, 14.0, 9.5, 18.3,\n",
        "                13.4, 8.1, 17.9, 14.2, 7.6, 17.0, 12.8, 8.0, 16.8, 13.7,\n",
        "                7.8, 17.5, 13.6, 8.7, 17.1, 13.8, 9.2, 18.1, 13.9, 8.3,\n",
        "                16.4, 12.7, 8.9, 18.2, 13.1, 7.8, 16.6, 12.5]\n",
        "cold = []\n",
        "mild = []\n",
        "comfortable = []\n",
        "for temp in temperatures:\n",
        "    if temp < 10:\n",
        "        cold.append(temp)\n",
        "    elif 10 <= temp < 15:\n",
        "        mild.append(temp)\n",
        "    elif 15 <= temp <= 20:\n",
        "        comfortable.append(temp)\n",
        "print(\"Cold temperatures (<10°C):\", cold)\n",
        "print(\"Mild temperatures (10°C - 15°C):\", mild)\n",
        "print(\"Comfortable temperatures (15°C - 20°C):\", comfortable)\n",
        "print(\"\\n\")\n",
        "#Task 2\n",
        "mild_count = len(mild)\n",
        "print(\"Number of times it was mild:\", mild_count)\n",
        "comfortable_count = len(comfortable)\n",
        "print(\"Number of times it was comfortable:\", comfortable_count)\n",
        "cold_count = len(cold)\n",
        "print(\"Number of times it was cold:\", cold_count)\n",
        "print(\"\\n\")\n",
        "#Task3\n",
        "# Task 3: Convert Celsius to Fahrenheit\n",
        "temperatures_fahrenheit = [(temp * 9 / 5) + 32 for temp in temperatures]\n",
        "print(\"Temperatures in Fahrenheit:\", temperatures_fahrenheit)\n",
        "print(\"\\n\")\n",
        "#Task4\n",
        "night_temps = []\n",
        "evening_temps = []\n",
        "day_temps = []\n",
        "for i in range(len(temperatures)):\n",
        "    if i % 3 == 0:\n",
        "        night_temps.append(temperatures[i])\n",
        "    elif i % 3 == 1:\n",
        "        evening_temps.append(temperatures[i])\n",
        "    else:\n",
        "        day_temps.append(temperatures[i])\n",
        "avg_night_temp = sum(night_temps) / len(night_temps)\n",
        "avg_evening_temp = sum(evening_temps) / len(evening_temps)\n",
        "avg_day_temp = sum(day_temps) / len(day_temps)\n",
        "\n",
        "print(f\"Average Night Temperature: {avg_night_temp:.2f}°C\")\n",
        "print(f\"Average Evening Temperature: {avg_evening_temp:.2f}°C\")\n",
        "print(f\"Average Day Temperature: {avg_day_temp:.2f}°C\")\n",
        "\n",
        "print(\"\\n\")\n",
        "\n",
        "#plotting the graph\n",
        "import matplotlib.pyplot as plt\n",
        "\n",
        "# Labels for time of day\n",
        "time_labels = [\"Night\", \"Evening\", \"Day\"]\n",
        "average_temps = [avg_night_temp, avg_evening_temp, avg_day_temp]\n",
        "\n",
        "# Create the plot\n",
        "plt.bar(time_labels, average_temps, color=[\"blue\", \"orange\", \"green\"])\n",
        "plt.title(\"Average Temperature by Time of Day\")\n",
        "plt.xlabel(\"Time of Day\")\n",
        "plt.ylabel(\"Temperature (°C)\")\n",
        "plt.show()\n"
      ]
    },
    {
      "cell_type": "markdown",
      "source": [
        "Recursion Task 1"
      ],
      "metadata": {
        "id": "3_heeZhWmh9-"
      }
    },
    {
      "cell_type": "code",
      "source": [
        "def sum_nested_list(nested_list):\n",
        "    \"\"\"\n",
        "    Calculate the sum of all numbers in a nested list.\n",
        "    This function takes a list that may contain integers and other nested lists.\n",
        "    It recursively traverses the list and sums all the integers, no matter how deeply nested they are.\n",
        "\n",
        "    Args:\n",
        "        nested_list (list): A list that may contain integers or other lists of integers.\n",
        "\n",
        "    Returns:\n",
        "        int: The total sum of all integers in the nested list, including those in sublists.\n",
        "    \"\"\"\n",
        "    total = 0\n",
        "    for element in nested_list:\n",
        "        if isinstance(element, list):\n",
        "            total += sum_nested_list(element)\n",
        "        else:\n",
        "            total += element\n",
        "    return total\n",
        "nested_list = [1, [2, [3, 4], 5], 6, [7, 8]]\n",
        "result = sum_nested_list(nested_list)\n",
        "print(\"The total sum of the nested list is:\", result)"
      ],
      "metadata": {
        "colab": {
          "base_uri": "https://localhost:8080/"
        },
        "id": "VtRCxsnXmtzz",
        "outputId": "feec9f5d-e80c-48c0-9f33-056c9e43f12e"
      },
      "execution_count": 2,
      "outputs": [
        {
          "output_type": "stream",
          "name": "stdout",
          "text": [
            "The total sum of the nested list is: 36\n"
          ]
        }
      ]
    },
    {
      "cell_type": "markdown",
      "source": [
        "Recursion Task 2"
      ],
      "metadata": {
        "id": "rrsbp60smzBB"
      }
    },
    {
      "cell_type": "code",
      "source": [
        "def generate_permutations(s):\n",
        "    if len(s) == 1:\n",
        "        return [s]\n",
        "    permutations = []\n",
        "    for i in range(len(s)):\n",
        "        char = s[i]\n",
        "        rest = s[:i] + s[i+1:]\n",
        "        for perm in generate_permutations(rest):\n",
        "            permutations.append(char + perm)\n",
        "    return list(set(permutations))\n",
        "print(generate_permutations(\"abc\"))\n",
        "print(generate_permutations(\"aab\"))"
      ],
      "metadata": {
        "colab": {
          "base_uri": "https://localhost:8080/"
        },
        "id": "tuCA91pHm2r2",
        "outputId": "afb117be-4e49-4e4f-8ceb-968f5ceb88ec"
      },
      "execution_count": 3,
      "outputs": [
        {
          "output_type": "stream",
          "name": "stdout",
          "text": [
            "['bac', 'bca', 'cba', 'cab', 'abc', 'acb']\n",
            "['aba', 'baa', 'aab']\n"
          ]
        }
      ]
    },
    {
      "cell_type": "markdown",
      "source": [
        "Recursion Task 3"
      ],
      "metadata": {
        "id": "kGyOpUuCnBDh"
      }
    },
    {
      "cell_type": "code",
      "source": [
        "def calculate_directory_size(directory):\n",
        "    total_size = 0\n",
        "    for key, value in directory.items():\n",
        "        if isinstance(value, dict):\n",
        "            total_size += calculate_directory_size(value)\n",
        "        else:\n",
        "            total_size += value\n",
        "    return total_size\n",
        "directory_structure = {\n",
        "    \"file1.txt\": 200,\n",
        "    \"file2.txt\": 300,\n",
        "    \"subdir1\": {\n",
        "        \"file3.txt\": 400,\n",
        "        \"file4.txt\": 100\n",
        "    },\n",
        "    \"subdir2\": {\n",
        "        \"subsubdir1\": {\n",
        "            \"file5.txt\": 250\n",
        "        },\n",
        "        \"file6.txt\": 150\n",
        "    }\n",
        "}\n",
        "print(calculate_directory_size(directory_structure))"
      ],
      "metadata": {
        "colab": {
          "base_uri": "https://localhost:8080/"
        },
        "id": "fML9g13YnH0A",
        "outputId": "01ab8c6e-972e-400d-ea04-d544f3f90e11"
      },
      "execution_count": 4,
      "outputs": [
        {
          "output_type": "stream",
          "name": "stdout",
          "text": [
            "1400\n"
          ]
        }
      ]
    },
    {
      "cell_type": "markdown",
      "source": [
        "Coin change problem"
      ],
      "metadata": {
        "id": "fZ5_jZSfnMFs"
      }
    },
    {
      "cell_type": "code",
      "source": [
        "def min_coins(coins, amount):\n",
        "    \"\"\"\n",
        "    Finds the minimum number of coins needed to make up a given amount using dynamic\n",
        "    programming.\n",
        "    This function solves the coin change problem by determining the fewest number of\n",
        "    coins from a given set of coin denominations that sum up to a target amount. The\n",
        "    solution uses dynamic programming (tabulation) to iteratively build up the minimum\n",
        "    number of coins required for each amount.\n",
        "\n",
        "    Parameters:\n",
        "        coins (list of int): A list of coin denominations available for making change. Each\n",
        "        coin denomination is a positive integer.\n",
        "        amount (int): The target amount for which we need to find the minimum number of coins.\n",
        "        It must be a non-negative integer.\n",
        "\n",
        "    Returns:\n",
        "        int: The minimum number of coins required to make the given amount.\n",
        "        If it is not possible to make the amount with the given coins, returns -1.\n",
        "\n",
        "    Example:\n",
        "    >>> min_coins([1, 2, 5], 11)\n",
        "    3\n",
        "    >>> min_coins([2], 3)\n",
        "    -1\n",
        "    \"\"\"\n",
        "    dp = [float('inf')] * (amount + 1)\n",
        "    dp[0] = 0\n",
        "    for coin in coins:\n",
        "        for i in range(coin, amount + 1):\n",
        "            dp[i] = min(dp[i], dp[i - coin] + 1)\n",
        "    return dp[amount] if dp[amount] != float('inf') else -1\n",
        "coins = [1, 2, 5]\n",
        "amount = 11\n",
        "result = min_coins(coins, amount)\n",
        "print(result)"
      ],
      "metadata": {
        "colab": {
          "base_uri": "https://localhost:8080/"
        },
        "id": "pgsUQqFcnUHI",
        "outputId": "9d6949dc-0995-4f28-83b9-15819b39d258"
      },
      "execution_count": 5,
      "outputs": [
        {
          "output_type": "stream",
          "name": "stdout",
          "text": [
            "3\n"
          ]
        }
      ]
    },
    {
      "cell_type": "markdown",
      "source": [
        "Longest Common Subsequence"
      ],
      "metadata": {
        "id": "E9iQSr9jnY6B"
      }
    },
    {
      "cell_type": "code",
      "source": [
        "def longest_common_subsequence(s1, s2):\n",
        "    \"\"\"\n",
        "    Finds the length of the longest common subsequence (LCS) of two strings s1 and s2\n",
        "    using dynamic programming.\n",
        "\n",
        "    Parameters:\n",
        "        s1 (str): The first string.\n",
        "        s2 (str): The second string.\n",
        "\n",
        "    Returns:\n",
        "        int: The length of the longest common subsequence of s1 and s2.\n",
        "    \"\"\"\n",
        "    m, n = len(s1), len(s2)\n",
        "    dp = [[0] * (n + 1) for _ in range(m + 1)]\n",
        "    for i in range(1, m + 1):\n",
        "        for j in range(1, n + 1):\n",
        "            if s1[i - 1] == s2[j - 1]:\n",
        "                dp[i][j] = dp[i - 1][j - 1] + 1\n",
        "            else:\n",
        "                dp[i][j] = max(dp[i - 1][j], dp[i][j - 1])\n",
        "    return dp[m][n]\n",
        "s1 = \"abcde\"\n",
        "s2 = \"ace\"\n",
        "result = longest_common_subsequence(s1, s2)\n",
        "print(result)"
      ],
      "metadata": {
        "colab": {
          "base_uri": "https://localhost:8080/"
        },
        "id": "IdcQHsaenbkn",
        "outputId": "beff9120-0493-4814-83f5-fe37ab9c227d"
      },
      "execution_count": 6,
      "outputs": [
        {
          "output_type": "stream",
          "name": "stdout",
          "text": [
            "3\n"
          ]
        }
      ]
    },
    {
      "cell_type": "markdown",
      "source": [
        "Knapsack Problem"
      ],
      "metadata": {
        "id": "frlBo5zini2s"
      }
    },
    {
      "cell_type": "code",
      "source": [
        "def knapsack(weights, values, capacity):\n",
        "    \"\"\"\n",
        "    Solves the 0/1 Knapsack problem using dynamic programming.\n",
        "\n",
        "    Parameters:\n",
        "        weights (list): A list of integers representing the weights of the items.\n",
        "        values (list): A list of integers representing the values of the items.\n",
        "        capacity (int): The maximum weight capacity of the knapsack.\n",
        "\n",
        "    Returns:\n",
        "        int: The maximum value that can be achieved within the given weight capacity.\n",
        "    \"\"\"\n",
        "    n = len(weights)\n",
        "    dp = [[0] * (capacity + 1) for _ in range(n + 1)]\n",
        "    for i in range(1, n + 1):\n",
        "        for w in range(1, capacity + 1):\n",
        "            if weights[i - 1] <= w:\n",
        "                dp[i][w] = max(dp[i - 1][w], dp[i - 1][w - weights[i - 1]] + values[i - 1])\n",
        "            else:\n",
        "                dp[i][w] = dp[i - 1][w]\n",
        "    return dp[n][capacity]\n",
        "weights = [1, 3, 4, 5]\n",
        "values = [1, 4, 5, 7]\n",
        "capacity = 7\n",
        "result = knapsack(weights, values, capacity)\n",
        "print(result)"
      ],
      "metadata": {
        "colab": {
          "base_uri": "https://localhost:8080/"
        },
        "id": "sDeDKwKhnuPp",
        "outputId": "8e0a6cb6-1362-42bc-a8d5-59a901db40a1"
      },
      "execution_count": 7,
      "outputs": [
        {
          "output_type": "stream",
          "name": "stdout",
          "text": [
            "9\n"
          ]
        }
      ]
    }
  ]
}