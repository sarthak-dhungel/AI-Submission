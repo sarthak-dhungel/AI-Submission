{
  "nbformat": 4,
  "nbformat_minor": 0,
  "metadata": {
    "colab": {
      "provenance": []
    },
    "kernelspec": {
      "name": "python3",
      "display_name": "Python 3"
    },
    "language_info": {
      "name": "python"
    }
  },
  "cells": [
    {
      "cell_type": "markdown",
      "source": [
        "Task 1 : Initialize an empty array with size 2X2"
      ],
      "metadata": {
        "id": "J45HmP31jwnH"
      }
    },
    {
      "cell_type": "code",
      "execution_count": null,
      "metadata": {
        "colab": {
          "base_uri": "https://localhost:8080/"
        },
        "id": "ctJzYkxntr3j",
        "outputId": "0a63207c-f8dd-4c30-d9f6-3aeb85ebda8d"
      },
      "outputs": [
        {
          "output_type": "stream",
          "name": "stdout",
          "text": [
            "[[4.83924057e-310 0.00000000e+000]\n",
            " [2.90435030e-144 6.64249506e-310]]\n"
          ]
        }
      ],
      "source": [
        "import numpy as np\n",
        "\n",
        "# Task 1: Initialize an empty array with size 2x2.\n",
        "a = np.empty((2, 2))\n",
        "print(a)\n"
      ]
    },
    {
      "cell_type": "markdown",
      "source": [
        "Task 2: Initialize an all one array with size 4X2."
      ],
      "metadata": {
        "id": "dB7D6GU1vQE0"
      }
    },
    {
      "cell_type": "code",
      "source": [
        "ones_array = np.ones((4,2))\n",
        "print(ones_array)"
      ],
      "metadata": {
        "colab": {
          "base_uri": "https://localhost:8080/"
        },
        "id": "QmWKzxq2vR7M",
        "outputId": "f24b6a6b-a150-4edb-e9a1-9a0b797577ad"
      },
      "execution_count": null,
      "outputs": [
        {
          "output_type": "stream",
          "name": "stdout",
          "text": [
            "[[1. 1.]\n",
            " [1. 1.]\n",
            " [1. 1.]\n",
            " [1. 1.]]\n"
          ]
        }
      ]
    },
    {
      "cell_type": "markdown",
      "source": [
        "Task 3 :Return a new array of given shape and type, filled with fill value."
      ],
      "metadata": {
        "id": "6NDlOXzHvlVB"
      }
    },
    {
      "cell_type": "code",
      "source": [
        "filled_array = np.full((3, 3),fill_value= 7)\n",
        "print(filled_array)"
      ],
      "metadata": {
        "colab": {
          "base_uri": "https://localhost:8080/"
        },
        "id": "K9kGeLMAvoXB",
        "outputId": "87afb30c-28cd-4ee7-dedc-a884880ee2f3"
      },
      "execution_count": null,
      "outputs": [
        {
          "output_type": "stream",
          "name": "stdout",
          "text": [
            "[[7 7 7]\n",
            " [7 7 7]\n",
            " [7 7 7]]\n"
          ]
        }
      ]
    },
    {
      "cell_type": "markdown",
      "source": [
        "Task 4:Return a new array of zeros with same shape and type as a given array."
      ],
      "metadata": {
        "id": "ZpuJ4iUGuObw"
      }
    },
    {
      "cell_type": "code",
      "source": [
        "given_array = np.array([[1, 2], [3, 4]])\n",
        "zeros_array = np.zeros_like(given_array)\n",
        "print(\"Given Array:\")\n",
        "print(given_array)\n",
        "print(\"\\nNew Array of Zeros with Same Shape and Type:\")\n",
        "print(zeros_array)"
      ],
      "metadata": {
        "colab": {
          "base_uri": "https://localhost:8080/"
        },
        "id": "0CZVOneZuRRh",
        "outputId": "3c37433b-a213-4ee2-c54b-fe1f1498f965"
      },
      "execution_count": null,
      "outputs": [
        {
          "output_type": "stream",
          "name": "stdout",
          "text": [
            "Given Array:\n",
            "[[1 2]\n",
            " [3 4]]\n",
            "\n",
            "New Array of Zeros with Same Shape and Type:\n",
            "[[0 0]\n",
            " [0 0]]\n"
          ]
        }
      ]
    },
    {
      "cell_type": "markdown",
      "source": [
        "Task 5: Return a new array of ones with same shape and type as a given array."
      ],
      "metadata": {
        "id": "I2geLpklv8zR"
      }
    },
    {
      "cell_type": "code",
      "source": [
        "ones_like = np.ones_like(filled_array)\n",
        "print(ones_like)"
      ],
      "metadata": {
        "colab": {
          "base_uri": "https://localhost:8080/"
        },
        "id": "rn8UKh3Qv-hI",
        "outputId": "f2747a34-4940-4df9-d6d4-b616334c7f0c"
      },
      "execution_count": null,
      "outputs": [
        {
          "output_type": "stream",
          "name": "stdout",
          "text": [
            "[[1 1 1]\n",
            " [1 1 1]\n",
            " [1 1 1]]\n"
          ]
        }
      ]
    },
    {
      "cell_type": "markdown",
      "source": [
        "Task 6 :For an existing list new_list = [1,2,3,4] convert to an numpy array."
      ],
      "metadata": {
        "id": "jN2GDHVJwNjm"
      }
    },
    {
      "cell_type": "code",
      "source": [
        "new_list = [1,2,3,4]\n",
        "new_array = np.array(new_list)\n",
        "print(new_array)"
      ],
      "metadata": {
        "colab": {
          "base_uri": "https://localhost:8080/"
        },
        "id": "JD35ZJ04wOdF",
        "outputId": "dbb93654-faab-4e62-e9eb-9321c6c53935"
      },
      "execution_count": null,
      "outputs": [
        {
          "output_type": "stream",
          "name": "stdout",
          "text": [
            "[1 2 3 4]\n"
          ]
        }
      ]
    },
    {
      "cell_type": "markdown",
      "source": [
        "Problem 2 : Array manipulation :Numerical Ranges and Array indexing"
      ],
      "metadata": {
        "id": "sDIC_Wj5w0Tn"
      }
    },
    {
      "cell_type": "markdown",
      "source": [
        "Task1 : Create an array with values ranging from 10 to 49.\n"
      ],
      "metadata": {
        "id": "rNZaJ5DIylSW"
      }
    },
    {
      "cell_type": "code",
      "source": [
        "array_10_to_49 = np.arange(10, 50)\n",
        "print(array_10_to_49)"
      ],
      "metadata": {
        "colab": {
          "base_uri": "https://localhost:8080/"
        },
        "id": "ycmTBeNUyolQ",
        "outputId": "d37b4bba-7bf7-418c-9f77-f3429a46fdd3"
      },
      "execution_count": null,
      "outputs": [
        {
          "output_type": "stream",
          "name": "stdout",
          "text": [
            "[10 11 12 13 14 15 16 17 18 19 20 21 22 23 24 25 26 27 28 29 30 31 32 33\n",
            " 34 35 36 37 38 39 40 41 42 43 44 45 46 47 48 49]\n"
          ]
        }
      ]
    },
    {
      "cell_type": "markdown",
      "source": [
        "Task 2 : Create a 3X3 matrix with values ranging from 0 to 8."
      ],
      "metadata": {
        "id": "n_VYojqUyrzL"
      }
    },
    {
      "cell_type": "code",
      "source": [
        "array_0_8 = np.reshape((np.arange(0,9)),(3,3))\n",
        "print(array_0_8)"
      ],
      "metadata": {
        "colab": {
          "base_uri": "https://localhost:8080/"
        },
        "id": "8qix6yrXys8R",
        "outputId": "9747b7a0-830b-4436-cf48-8514e9e437a5"
      },
      "execution_count": null,
      "outputs": [
        {
          "output_type": "stream",
          "name": "stdout",
          "text": [
            "[[0 1 2]\n",
            " [3 4 5]\n",
            " [6 7 8]]\n"
          ]
        }
      ]
    },
    {
      "cell_type": "markdown",
      "source": [
        "Task 3 : Create a 3X3 identity matrix."
      ],
      "metadata": {
        "id": "kKAxWFCczFHF"
      }
    },
    {
      "cell_type": "code",
      "source": [
        "identity_matrix = np.eye(3)\n",
        "print(identity_matrix)"
      ],
      "metadata": {
        "colab": {
          "base_uri": "https://localhost:8080/"
        },
        "id": "KjeegWGJzGN1",
        "outputId": "66e62ee5-2739-44b6-8e44-4bd5fd11fb37"
      },
      "execution_count": null,
      "outputs": [
        {
          "output_type": "stream",
          "name": "stdout",
          "text": [
            "[[1. 0. 0.]\n",
            " [0. 1. 0.]\n",
            " [0. 0. 1.]]\n"
          ]
        }
      ]
    },
    {
      "cell_type": "markdown",
      "source": [
        "Task4 : Create a random array of size 30 and find the mean of the array."
      ],
      "metadata": {
        "id": "oPemEEcwzvRx"
      }
    },
    {
      "cell_type": "code",
      "source": [
        "random_array = np.random.rand(30)\n",
        "mean_arr = random_array.mean()\n",
        "print(mean_arr)"
      ],
      "metadata": {
        "colab": {
          "base_uri": "https://localhost:8080/"
        },
        "id": "CXsysTqDzw_K",
        "outputId": "59830dd9-a309-4782-a075-b24312db07e8"
      },
      "execution_count": null,
      "outputs": [
        {
          "output_type": "stream",
          "name": "stdout",
          "text": [
            "0.5088697666330795\n"
          ]
        }
      ]
    },
    {
      "cell_type": "markdown",
      "source": [
        "Task 5 :Create a 10X10 array with random values and find the minimum and maximum values."
      ],
      "metadata": {
        "id": "O5eA_dvB0Nt1"
      }
    },
    {
      "cell_type": "code",
      "source": [
        "random_array_1=np.random.rand(10,10)\n",
        "min_value = random_array_1.min()\n",
        "max_value = random_array_1.max()\n",
        "print(min_value)\n",
        "print(max_value)\n"
      ],
      "metadata": {
        "colab": {
          "base_uri": "https://localhost:8080/"
        },
        "id": "QYdedbJr0OpU",
        "outputId": "cf666bb0-711d-4348-904c-6af809ce5cdb"
      },
      "execution_count": null,
      "outputs": [
        {
          "output_type": "stream",
          "name": "stdout",
          "text": [
            "0.0011714030924404595\n",
            "0.9939080193907912\n"
          ]
        }
      ]
    },
    {
      "cell_type": "markdown",
      "source": [
        "Task 6 : Create a zero array of size 10 and replace 5th element with 1."
      ],
      "metadata": {
        "id": "kQiTpOlq0yLg"
      }
    },
    {
      "cell_type": "code",
      "source": [
        "zero_array = np.zeros(10)\n",
        "zero_array[4] = 1\n",
        "print(zero_array)\n"
      ],
      "metadata": {
        "colab": {
          "base_uri": "https://localhost:8080/"
        },
        "id": "DbKZunJW00W9",
        "outputId": "101339f4-ce57-4a87-c6f0-d7fa93f20004"
      },
      "execution_count": null,
      "outputs": [
        {
          "output_type": "stream",
          "name": "stdout",
          "text": [
            "[0. 0. 0. 0. 1. 0. 0. 0. 0. 0.]\n"
          ]
        }
      ]
    },
    {
      "cell_type": "markdown",
      "source": [
        "Task 7 : Reverse an array arr = [1,2,0,0,4,0]."
      ],
      "metadata": {
        "id": "shzJpfyg20pk"
      }
    },
    {
      "cell_type": "code",
      "source": [
        "arr = [1, 2, 0, 0, 4, 0]\n",
        "reversed_arr = arr[::-1]\n",
        "print( reversed_arr)\n"
      ],
      "metadata": {
        "colab": {
          "base_uri": "https://localhost:8080/"
        },
        "id": "XW_9AB6522ZV",
        "outputId": "cfff7856-f837-4453-d54f-b5ae4cb72409"
      },
      "execution_count": null,
      "outputs": [
        {
          "output_type": "stream",
          "name": "stdout",
          "text": [
            "[0, 4, 0, 0, 2, 1]\n"
          ]
        }
      ]
    },
    {
      "cell_type": "markdown",
      "source": [
        "Task 8 : Create a 2d array with 1 on border and 0 inside"
      ],
      "metadata": {
        "id": "3Ieo4egn5EJg"
      }
    },
    {
      "cell_type": "code",
      "source": [
        "border_array = np.ones((6, 6))\n",
        "border_array[1:-1, 1:-1] = 0\n",
        "print(border_array)\n"
      ],
      "metadata": {
        "colab": {
          "base_uri": "https://localhost:8080/"
        },
        "id": "XF0rwnwA5FLD",
        "outputId": "67fa7f5f-e9df-47c8-bae2-697822210791"
      },
      "execution_count": null,
      "outputs": [
        {
          "output_type": "stream",
          "name": "stdout",
          "text": [
            "[[1. 1. 1. 1. 1. 1.]\n",
            " [1. 0. 0. 0. 0. 1.]\n",
            " [1. 0. 0. 0. 0. 1.]\n",
            " [1. 0. 0. 0. 0. 1.]\n",
            " [1. 0. 0. 0. 0. 1.]\n",
            " [1. 1. 1. 1. 1. 1.]]\n"
          ]
        }
      ]
    },
    {
      "cell_type": "markdown",
      "source": [
        "Task 9 : Create a 8X8 matrix and fill it with a checkerboard pattern."
      ],
      "metadata": {
        "id": "bY2C6RDp55z9"
      }
    },
    {
      "cell_type": "code",
      "source": [
        "checkerboard = np.zeros((8, 8), dtype=int)\n",
        "checkerboard[1::2, ::2] = 1\n",
        "checkerboard[::2, 1::2] = 1\n",
        "print(checkerboard)\n"
      ],
      "metadata": {
        "colab": {
          "base_uri": "https://localhost:8080/"
        },
        "id": "rJQv7UbZQYi1",
        "outputId": "fff5ab22-0de9-46d9-a163-575a42f03d87"
      },
      "execution_count": null,
      "outputs": [
        {
          "output_type": "stream",
          "name": "stdout",
          "text": [
            "[[0 1 0 1 0 1 0 1]\n",
            " [1 0 1 0 1 0 1 0]\n",
            " [0 1 0 1 0 1 0 1]\n",
            " [1 0 1 0 1 0 1 0]\n",
            " [0 1 0 1 0 1 0 1]\n",
            " [1 0 1 0 1 0 1 0]\n",
            " [0 1 0 1 0 1 0 1]\n",
            " [1 0 1 0 1 0 1 0]]\n"
          ]
        }
      ]
    },
    {
      "cell_type": "markdown",
      "source": [
        "Problem 3 : Array Operations"
      ],
      "metadata": {
        "id": "oT3utqWxQyjc"
      }
    },
    {
      "cell_type": "markdown",
      "source": [
        "For the following arrays:\n",
        "x = np.array([[1,2],[3,5]]) and y = np.array([[5,6],[7,8]]);\n",
        "v = np.array([9,10]) and w = np.array([11,12]);\n",
        "Complete all the task using numpy:\n",
        "\n",
        "\n",
        "1. Add the two array."
      ],
      "metadata": {
        "id": "CaG_RObUQ3_r"
      }
    },
    {
      "cell_type": "code",
      "source": [
        "x = np.array([[1, 2], [3, 5]])\n",
        "y = np.array([[5, 6], [7, 8]])\n",
        "v = np.array([9, 10])\n",
        "w = np.array([11, 12])\n"
      ],
      "metadata": {
        "id": "37hx_pciQ4_N"
      },
      "execution_count": null,
      "outputs": []
    },
    {
      "cell_type": "code",
      "source": [
        "sum_xy = x + y\n",
        "print(sum_xy)"
      ],
      "metadata": {
        "colab": {
          "base_uri": "https://localhost:8080/"
        },
        "id": "9Abxhnx_RA7f",
        "outputId": "e6442818-5ed9-4b48-95a1-92d2eab12144"
      },
      "execution_count": null,
      "outputs": [
        {
          "output_type": "stream",
          "name": "stdout",
          "text": [
            "Addition of x and y:\n",
            " [[ 6  8]\n",
            " [10 13]]\n"
          ]
        }
      ]
    },
    {
      "cell_type": "markdown",
      "source": [
        "Task 2 : Subtract the two array."
      ],
      "metadata": {
        "id": "Kjer_Od1RGtV"
      }
    },
    {
      "cell_type": "code",
      "source": [
        "diff_xy = x - y\n",
        "print(diff_xy)"
      ],
      "metadata": {
        "colab": {
          "base_uri": "https://localhost:8080/"
        },
        "id": "ZwoGaZl-RJnZ",
        "outputId": "897404b2-67df-44d3-9446-5cf3b31a150b"
      },
      "execution_count": null,
      "outputs": [
        {
          "output_type": "stream",
          "name": "stdout",
          "text": [
            "[[-4 -4]\n",
            " [-4 -3]]\n"
          ]
        }
      ]
    },
    {
      "cell_type": "markdown",
      "source": [
        "Task 3 : Multiply the array with any integers of your choice"
      ],
      "metadata": {
        "id": "QR6QjxejROrT"
      }
    },
    {
      "cell_type": "code",
      "source": [
        "multiply_x = x * 3\n",
        "print(multiply_x)"
      ],
      "metadata": {
        "colab": {
          "base_uri": "https://localhost:8080/"
        },
        "id": "0tOia7NWRPvd",
        "outputId": "ec73df12-b9c3-4641-bb4d-888b5e6b795c"
      },
      "execution_count": null,
      "outputs": [
        {
          "output_type": "stream",
          "name": "stdout",
          "text": [
            "[[ 3  6]\n",
            " [ 9 15]]\n"
          ]
        }
      ]
    },
    {
      "cell_type": "markdown",
      "source": [
        "Task 4 : Find the square of each element of the array."
      ],
      "metadata": {
        "id": "Fq_TgAPARZcx"
      }
    },
    {
      "cell_type": "code",
      "source": [
        "square_x = x ** 2\n",
        "print(square_x)\n"
      ],
      "metadata": {
        "colab": {
          "base_uri": "https://localhost:8080/"
        },
        "id": "cKzLCqqMRbOp",
        "outputId": "32cfc940-639e-4321-d1f4-5adcdf20c5db"
      },
      "execution_count": null,
      "outputs": [
        {
          "output_type": "stream",
          "name": "stdout",
          "text": [
            "[[ 1  4]\n",
            " [ 9 25]]\n"
          ]
        }
      ]
    },
    {
      "cell_type": "markdown",
      "source": [
        "Task 5 : Find the dot product between: v(and)w ; x(and)v ; x(and)y."
      ],
      "metadata": {
        "id": "estROMJ9Rgd8"
      }
    },
    {
      "cell_type": "code",
      "source": [
        "dot_prd_vw = np.dot(v, w)\n",
        "dot_prd_xv = np.dot(x, v)\n",
        "dot_prd_xy = np.dot(x, y)\n",
        "print(dot_prd_vw)\n",
        "print(dot_prd_xv)\n",
        "print(dot_prd_xy)"
      ],
      "metadata": {
        "colab": {
          "base_uri": "https://localhost:8080/"
        },
        "id": "88-Iq6yrRhre",
        "outputId": "e9d8b9f5-43d3-4893-bb85-b7f80c6e1664"
      },
      "execution_count": null,
      "outputs": [
        {
          "output_type": "stream",
          "name": "stdout",
          "text": [
            "219\n",
            "[29 77]\n",
            "[[19 22]\n",
            " [50 58]]\n"
          ]
        }
      ]
    },
    {
      "cell_type": "markdown",
      "source": [
        "Task 6 : Concatenate x(and)y along row and Concatenate v(and)w along column.\n"
      ],
      "metadata": {
        "id": "9qOVAp9SR5nj"
      }
    },
    {
      "cell_type": "code",
      "source": [
        "concat_xy_row = np.concatenate((x, y), axis=0)\n",
        "concat_vw_col = np.vstack((v, w))\n",
        "print(concat_xy_row)\n",
        "print(concat_vw_col)"
      ],
      "metadata": {
        "colab": {
          "base_uri": "https://localhost:8080/"
        },
        "id": "nVr4Jy6sR7Q0",
        "outputId": "f9aa3197-9b5a-40eb-e5c1-2d27f1a47059"
      },
      "execution_count": null,
      "outputs": [
        {
          "output_type": "stream",
          "name": "stdout",
          "text": [
            "[[1 2]\n",
            " [3 5]\n",
            " [5 6]\n",
            " [7 8]]\n",
            "[[ 9 10]\n",
            " [11 12]]\n"
          ]
        }
      ]
    },
    {
      "cell_type": "markdown",
      "source": [
        "Task 7 : 7. Concatenate x(and)v; if you get an error, observe and explain why did you get the error?"
      ],
      "metadata": {
        "id": "xZK2ALpQSFZP"
      }
    },
    {
      "cell_type": "code",
      "source": [
        "try:\n",
        "    concat_xv = np.concatenate((x, v), axis=0)\n",
        "except ValueError as e:\n",
        "    print(e)\n",
        "# Explanation:\n",
        "# The error occurs because x is a 2D array (shape (2, 2)) and v is a 1D array (shape (2,)).\n",
        "# To concatenate, both arrays must have the same number of dimensions or compatible shapes.\n"
      ],
      "metadata": {
        "colab": {
          "base_uri": "https://localhost:8080/"
        },
        "id": "qH5QAABsSGRZ",
        "outputId": "c58e11d0-4bb2-4c4b-92c8-76f8fecb325a"
      },
      "execution_count": null,
      "outputs": [
        {
          "output_type": "stream",
          "name": "stdout",
          "text": [
            "all the input arrays must have same number of dimensions, but the array at index 0 has 2 dimension(s) and the array at index 1 has 1 dimension(s)\n"
          ]
        }
      ]
    },
    {
      "cell_type": "markdown",
      "source": [
        "Problem 4 : Matrix Operations"
      ],
      "metadata": {
        "id": "e2Z7G4rKSYGD"
      }
    },
    {
      "cell_type": "markdown",
      "source": [
        "Task 1 : Prove A.A−1 = I."
      ],
      "metadata": {
        "id": "N1nXEi7xwfJQ"
      }
    },
    {
      "cell_type": "code",
      "source": [
        "A = np.array([[3, 4], [7, 8]])\n",
        "A_inv = np.linalg.inv(A)\n",
        "result = np.dot(A, A_inv)\n",
        "result = np.round(result, decimals=10)\n",
        "print(\"A * A^(-1):\\n\", result)\n"
      ],
      "metadata": {
        "colab": {
          "base_uri": "https://localhost:8080/"
        },
        "id": "c5qVBqdKSms8",
        "outputId": "279356ba-89a0-4b01-91ba-13d1cc168ad5"
      },
      "execution_count": null,
      "outputs": [
        {
          "output_type": "stream",
          "name": "stdout",
          "text": [
            "A * A^(-1):\n",
            " [[1. 0.]\n",
            " [0. 1.]]\n"
          ]
        }
      ]
    },
    {
      "cell_type": "markdown",
      "source": [
        "Task 2 : Prove AB ̸= BA."
      ],
      "metadata": {
        "id": "NJNHftZFTL-9"
      }
    },
    {
      "cell_type": "code",
      "source": [
        "B = np.array([[5, 3], [2, 1]])\n",
        "AB = np.dot(A, B)\n",
        "BA = np.dot(B, A)\n",
        "print(\"AB:\\n\", AB)\n",
        "print(\"BA:\\n\", BA)"
      ],
      "metadata": {
        "colab": {
          "base_uri": "https://localhost:8080/"
        },
        "id": "64k1gMwPTN0y",
        "outputId": "067df452-0907-4295-80ec-29044f5d098f"
      },
      "execution_count": null,
      "outputs": [
        {
          "output_type": "stream",
          "name": "stdout",
          "text": [
            "AB:\n",
            " [[23 13]\n",
            " [51 29]]\n",
            "BA:\n",
            " [[36 44]\n",
            " [13 16]]\n"
          ]
        }
      ]
    },
    {
      "cell_type": "markdown",
      "source": [
        "Task 3 : Prove (AB)T = BTAT"
      ],
      "metadata": {
        "id": "YVZG-fu1TPiP"
      }
    },
    {
      "cell_type": "code",
      "source": [
        "AB_T = np.transpose(AB)\n",
        "BT_AT = np.dot(B.T, A.T)\n",
        "print(\"(AB)^T:\\n\", AB_T)\n",
        "print(\"B^T * A^T:\\n\", BT_AT)\n",
        "print(\"Are (AB)^T and B^T * A^T equal? \", np.array_equal(AB_T, BT_AT))"
      ],
      "metadata": {
        "colab": {
          "base_uri": "https://localhost:8080/"
        },
        "id": "A0sY48fvTQo_",
        "outputId": "2263e4ac-416f-452f-ebbb-0ddae147945c"
      },
      "execution_count": null,
      "outputs": [
        {
          "output_type": "stream",
          "name": "stdout",
          "text": [
            "(AB)^T:\n",
            " [[23 51]\n",
            " [13 29]]\n",
            "B^T * A^T:\n",
            " [[23 51]\n",
            " [13 29]]\n",
            "Are (AB)^T and B^T * A^T equal?  True\n"
          ]
        }
      ]
    },
    {
      "cell_type": "markdown",
      "source": [
        "Linear Equation using Inverse Methods"
      ],
      "metadata": {
        "id": "ZnTX3NouTW5T"
      }
    },
    {
      "cell_type": "code",
      "source": [
        "A = np.array([[2, -3, 1],\n",
        "              [1, -1, 2],\n",
        "              [3, 1, -1]])\n",
        "B = np.array([-1, -3, 9])\n",
        "A_inv = np.linalg.inv(A)\n",
        "X = np.dot(A_inv, B)\n",
        "X_alt = np.linalg.solve(A, B)\n",
        "print(\"Solution using inverse method (X):\", X)\n",
        "print(\"Solution using np.linalg.solve (X_alt):\", X_alt)\n"
      ],
      "metadata": {
        "colab": {
          "base_uri": "https://localhost:8080/"
        },
        "id": "CDSHltEvTb-u",
        "outputId": "42e78e8c-ab15-4c9f-99d2-9a71924d5bf3"
      },
      "execution_count": null,
      "outputs": [
        {
          "output_type": "stream",
          "name": "stdout",
          "text": [
            "Solution using inverse method (X): [ 2.  1. -2.]\n",
            "Solution using np.linalg.solve (X_alt): [ 2.  1. -2.]\n"
          ]
        }
      ]
    }
  ]
}